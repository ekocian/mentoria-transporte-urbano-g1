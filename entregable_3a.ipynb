{
 "cells": [
  {
   "cell_type": "markdown",
   "id": "99cdaf92",
   "metadata": {},
   "source": [
    "Esta notebook tiene como objetivo hacer un análisis general del dataset, de las variables que contiene y del tipo de datos. Se elige separar la columna FECHA en dos columnas distintas (día y hora) que puedan servir posteriormente como inputs distintos para el modelo de predicción. Por último, se exporta un csv que se utilizará como input en el notebook siguiente"
   ]
  },
  {
   "cell_type": "code",
   "execution_count": 1,
   "id": "509ba056",
   "metadata": {},
   "outputs": [],
   "source": [
    "import pandas as pd\n",
    "import numpy as np"
   ]
  },
  {
   "cell_type": "code",
   "execution_count": 2,
   "id": "24a6802c",
   "metadata": {},
   "outputs": [],
   "source": [
    "#pip install --upgrade --force-reinstall jupyter"
   ]
  },
  {
   "cell_type": "code",
   "execution_count": 4,
   "id": "5af225b1",
   "metadata": {},
   "outputs": [],
   "source": [
    "df = pd.read_csv(\"base_mayo22_habil.csv\")"
   ]
  },
  {
   "cell_type": "code",
   "execution_count": 5,
   "id": "556d5591",
   "metadata": {},
   "outputs": [
    {
     "data": {
      "text/html": [
       "<div>\n",
       "<style scoped>\n",
       "    .dataframe tbody tr th:only-of-type {\n",
       "        vertical-align: middle;\n",
       "    }\n",
       "\n",
       "    .dataframe tbody tr th {\n",
       "        vertical-align: top;\n",
       "    }\n",
       "\n",
       "    .dataframe thead th {\n",
       "        text-align: right;\n",
       "    }\n",
       "</style>\n",
       "<table border=\"1\" class=\"dataframe\">\n",
       "  <thead>\n",
       "    <tr style=\"text-align: right;\">\n",
       "      <th></th>\n",
       "      <th>LINEA</th>\n",
       "      <th>SENTIDO</th>\n",
       "      <th>FECHA</th>\n",
       "      <th>TARJETA</th>\n",
       "      <th>CONTRATO</th>\n",
       "    </tr>\n",
       "  </thead>\n",
       "  <tbody>\n",
       "    <tr>\n",
       "      <th>0</th>\n",
       "      <td>L42 E</td>\n",
       "      <td>Ida</td>\n",
       "      <td>02/05/2022 04:36:14 PM</td>\n",
       "      <td>1000001</td>\n",
       "      <td>Usuario comun</td>\n",
       "    </tr>\n",
       "    <tr>\n",
       "      <th>1</th>\n",
       "      <td>L35 T</td>\n",
       "      <td>Ida</td>\n",
       "      <td>02/05/2022 10:22:27 PM</td>\n",
       "      <td>1000002</td>\n",
       "      <td>Usuario comun</td>\n",
       "    </tr>\n",
       "    <tr>\n",
       "      <th>2</th>\n",
       "      <td>C</td>\n",
       "      <td>Ida</td>\n",
       "      <td>02/05/2022 03:20:12 PM</td>\n",
       "      <td>1000003</td>\n",
       "      <td>Usuario comun</td>\n",
       "    </tr>\n",
       "    <tr>\n",
       "      <th>3</th>\n",
       "      <td>C</td>\n",
       "      <td>Vuelta</td>\n",
       "      <td>02/05/2022 09:18:06 AM</td>\n",
       "      <td>1000003</td>\n",
       "      <td>Usuario comun</td>\n",
       "    </tr>\n",
       "    <tr>\n",
       "      <th>4</th>\n",
       "      <td>C</td>\n",
       "      <td>Ida</td>\n",
       "      <td>02/05/2022 06:56:40 AM</td>\n",
       "      <td>1000004</td>\n",
       "      <td>Usuario comun</td>\n",
       "    </tr>\n",
       "  </tbody>\n",
       "</table>\n",
       "</div>"
      ],
      "text/plain": [
       "   LINEA SENTIDO                   FECHA  TARJETA       CONTRATO\n",
       "0  L42 E     Ida  02/05/2022 04:36:14 PM  1000001  Usuario comun\n",
       "1  L35 T     Ida  02/05/2022 10:22:27 PM  1000002  Usuario comun\n",
       "2      C     Ida  02/05/2022 03:20:12 PM  1000003  Usuario comun\n",
       "3      C  Vuelta  02/05/2022 09:18:06 AM  1000003  Usuario comun\n",
       "4      C     Ida  02/05/2022 06:56:40 AM  1000004  Usuario comun"
      ]
     },
     "execution_count": 5,
     "metadata": {},
     "output_type": "execute_result"
    }
   ],
   "source": [
    "df.head()"
   ]
  },
  {
   "cell_type": "code",
   "execution_count": 6,
   "id": "0a2a4b0c",
   "metadata": {},
   "outputs": [
    {
     "data": {
      "text/plain": [
       "LINEA       object\n",
       "SENTIDO     object\n",
       "FECHA       object\n",
       "TARJETA      int64\n",
       "CONTRATO    object\n",
       "dtype: object"
      ]
     },
     "execution_count": 6,
     "metadata": {},
     "output_type": "execute_result"
    }
   ],
   "source": [
    "df.dtypes"
   ]
  },
  {
   "cell_type": "code",
   "execution_count": 7,
   "id": "35a92f68",
   "metadata": {},
   "outputs": [
    {
     "data": {
      "text/plain": [
       "(8430650, 5)"
      ]
     },
     "execution_count": 7,
     "metadata": {},
     "output_type": "execute_result"
    }
   ],
   "source": [
    "df.shape"
   ]
  },
  {
   "cell_type": "code",
   "execution_count": 8,
   "id": "8396f349",
   "metadata": {},
   "outputs": [
    {
     "data": {
      "text/plain": [
       "Usuario comun      5622907\n",
       "BEG                1576139\n",
       "Adultos Mayores     334131\n",
       "Discapacidad        312023\n",
       "BOS                 273809\n",
       "Resto               212869\n",
       "BSC                  98772\n",
       "Name: CONTRATO, dtype: int64"
      ]
     },
     "execution_count": 8,
     "metadata": {},
     "output_type": "execute_result"
    }
   ],
   "source": [
    "df.CONTRATO.value_counts()"
   ]
  },
  {
   "cell_type": "code",
   "execution_count": 9,
   "id": "da012dc6",
   "metadata": {},
   "outputs": [
    {
     "data": {
      "text/plain": [
       "LINEA       0\n",
       "SENTIDO     0\n",
       "FECHA       0\n",
       "TARJETA     0\n",
       "CONTRATO    0\n",
       "dtype: int64"
      ]
     },
     "execution_count": 9,
     "metadata": {},
     "output_type": "execute_result"
    }
   ],
   "source": [
    "df.isna().sum()"
   ]
  },
  {
   "cell_type": "code",
   "execution_count": 10,
   "id": "2c9f6d87",
   "metadata": {},
   "outputs": [
    {
     "data": {
      "text/plain": [
       "1091193    221\n",
       "1131682    132\n",
       "1151710    126\n",
       "1156903    125\n",
       "1131563    124\n",
       "          ... \n",
       "1527433      1\n",
       "1366655      1\n",
       "1527439      1\n",
       "1108428      1\n",
       "1081291      1\n",
       "Name: TARJETA, Length: 698084, dtype: int64"
      ]
     },
     "execution_count": 10,
     "metadata": {},
     "output_type": "execute_result"
    }
   ],
   "source": [
    "df.TARJETA.value_counts()"
   ]
  },
  {
   "cell_type": "markdown",
   "id": "9e21b493",
   "metadata": {},
   "source": [
    "Dividimos la columna FECHA en una que sea solo días ('Dates') y otra que sea solo la hora ('Time')"
   ]
  },
  {
   "cell_type": "code",
   "execution_count": 11,
   "id": "d1b25d1a",
   "metadata": {},
   "outputs": [],
   "source": [
    "df['Dates'] = pd.to_datetime(df['FECHA']).dt.date"
   ]
  },
  {
   "cell_type": "code",
   "execution_count": 12,
   "id": "2bb60dbe",
   "metadata": {},
   "outputs": [],
   "source": [
    "df['Time'] = pd.to_datetime(df['FECHA']).dt.time"
   ]
  },
  {
   "cell_type": "code",
   "execution_count": 13,
   "id": "d7874ead",
   "metadata": {},
   "outputs": [
    {
     "data": {
      "text/html": [
       "<div>\n",
       "<style scoped>\n",
       "    .dataframe tbody tr th:only-of-type {\n",
       "        vertical-align: middle;\n",
       "    }\n",
       "\n",
       "    .dataframe tbody tr th {\n",
       "        vertical-align: top;\n",
       "    }\n",
       "\n",
       "    .dataframe thead th {\n",
       "        text-align: right;\n",
       "    }\n",
       "</style>\n",
       "<table border=\"1\" class=\"dataframe\">\n",
       "  <thead>\n",
       "    <tr style=\"text-align: right;\">\n",
       "      <th></th>\n",
       "      <th>LINEA</th>\n",
       "      <th>SENTIDO</th>\n",
       "      <th>FECHA</th>\n",
       "      <th>TARJETA</th>\n",
       "      <th>CONTRATO</th>\n",
       "      <th>Dates</th>\n",
       "      <th>Time</th>\n",
       "    </tr>\n",
       "  </thead>\n",
       "  <tbody>\n",
       "    <tr>\n",
       "      <th>0</th>\n",
       "      <td>L42 E</td>\n",
       "      <td>Ida</td>\n",
       "      <td>02/05/2022 04:36:14 PM</td>\n",
       "      <td>1000001</td>\n",
       "      <td>Usuario comun</td>\n",
       "      <td>2022-02-05</td>\n",
       "      <td>16:36:14</td>\n",
       "    </tr>\n",
       "    <tr>\n",
       "      <th>1</th>\n",
       "      <td>L35 T</td>\n",
       "      <td>Ida</td>\n",
       "      <td>02/05/2022 10:22:27 PM</td>\n",
       "      <td>1000002</td>\n",
       "      <td>Usuario comun</td>\n",
       "      <td>2022-02-05</td>\n",
       "      <td>22:22:27</td>\n",
       "    </tr>\n",
       "    <tr>\n",
       "      <th>2</th>\n",
       "      <td>C</td>\n",
       "      <td>Ida</td>\n",
       "      <td>02/05/2022 03:20:12 PM</td>\n",
       "      <td>1000003</td>\n",
       "      <td>Usuario comun</td>\n",
       "      <td>2022-02-05</td>\n",
       "      <td>15:20:12</td>\n",
       "    </tr>\n",
       "    <tr>\n",
       "      <th>3</th>\n",
       "      <td>C</td>\n",
       "      <td>Vuelta</td>\n",
       "      <td>02/05/2022 09:18:06 AM</td>\n",
       "      <td>1000003</td>\n",
       "      <td>Usuario comun</td>\n",
       "      <td>2022-02-05</td>\n",
       "      <td>09:18:06</td>\n",
       "    </tr>\n",
       "    <tr>\n",
       "      <th>4</th>\n",
       "      <td>C</td>\n",
       "      <td>Ida</td>\n",
       "      <td>02/05/2022 06:56:40 AM</td>\n",
       "      <td>1000004</td>\n",
       "      <td>Usuario comun</td>\n",
       "      <td>2022-02-05</td>\n",
       "      <td>06:56:40</td>\n",
       "    </tr>\n",
       "  </tbody>\n",
       "</table>\n",
       "</div>"
      ],
      "text/plain": [
       "   LINEA SENTIDO                   FECHA  TARJETA       CONTRATO       Dates  \\\n",
       "0  L42 E     Ida  02/05/2022 04:36:14 PM  1000001  Usuario comun  2022-02-05   \n",
       "1  L35 T     Ida  02/05/2022 10:22:27 PM  1000002  Usuario comun  2022-02-05   \n",
       "2      C     Ida  02/05/2022 03:20:12 PM  1000003  Usuario comun  2022-02-05   \n",
       "3      C  Vuelta  02/05/2022 09:18:06 AM  1000003  Usuario comun  2022-02-05   \n",
       "4      C     Ida  02/05/2022 06:56:40 AM  1000004  Usuario comun  2022-02-05   \n",
       "\n",
       "       Time  \n",
       "0  16:36:14  \n",
       "1  22:22:27  \n",
       "2  15:20:12  \n",
       "3  09:18:06  \n",
       "4  06:56:40  "
      ]
     },
     "execution_count": 13,
     "metadata": {},
     "output_type": "execute_result"
    }
   ],
   "source": [
    "df.head()"
   ]
  },
  {
   "cell_type": "markdown",
   "id": "5ee76a12",
   "metadata": {},
   "source": [
    "Observamos que la columna Dates no está tomando los días correctamente, ya que confunde en algunos casos el día y el mes"
   ]
  },
  {
   "cell_type": "code",
   "execution_count": null,
   "id": "fcd44c8e",
   "metadata": {},
   "outputs": [
    {
     "data": {
      "text/plain": [
       "2022-04-05    455802\n",
       "2022-12-05    454585\n",
       "2022-06-05    454366\n",
       "2022-03-05    453346\n",
       "2022-05-05    451424\n",
       "2022-10-05    448905\n",
       "2022-05-13    448231\n",
       "2022-05-23    447513\n",
       "2022-05-24    446953\n",
       "2022-09-05    445510\n",
       "2022-05-20    442949\n",
       "2022-05-16    437444\n",
       "2022-02-05    434103\n",
       "2022-05-27    433996\n",
       "2022-05-31    431913\n",
       "2022-05-19    425781\n",
       "2022-11-05    425759\n",
       "2022-05-26    424968\n",
       "2022-05-30    424639\n",
       "2022-05-18     37000\n",
       "2022-07-05      1066\n",
       "2022-05-21      1052\n",
       "2022-05-14       969\n",
       "2022-05-28       874\n",
       "2022-05-25       730\n",
       "2022-01-06       697\n",
       "2022-05-17        43\n",
       "2022-05-29        32\n",
       "Name: Dates, dtype: int64"
      ]
     },
     "execution_count": 33,
     "metadata": {},
     "output_type": "execute_result"
    }
   ],
   "source": [
    "df.Dates.value_counts()"
   ]
  },
  {
   "cell_type": "markdown",
   "id": "3fdda9fc",
   "metadata": {},
   "source": [
    "Probamos otro método"
   ]
  },
  {
   "cell_type": "code",
   "execution_count": null,
   "id": "e21b8300",
   "metadata": {},
   "outputs": [],
   "source": [
    "df[['DIA', 'HORA', 'M']] = df['FECHA'].str.split(' ', expand=True)"
   ]
  },
  {
   "cell_type": "code",
   "execution_count": null,
   "id": "91c8bca3",
   "metadata": {},
   "outputs": [
    {
     "data": {
      "text/html": [
       "<div>\n",
       "<style scoped>\n",
       "    .dataframe tbody tr th:only-of-type {\n",
       "        vertical-align: middle;\n",
       "    }\n",
       "\n",
       "    .dataframe tbody tr th {\n",
       "        vertical-align: top;\n",
       "    }\n",
       "\n",
       "    .dataframe thead th {\n",
       "        text-align: right;\n",
       "    }\n",
       "</style>\n",
       "<table border=\"1\" class=\"dataframe\">\n",
       "  <thead>\n",
       "    <tr style=\"text-align: right;\">\n",
       "      <th></th>\n",
       "      <th>LINEA</th>\n",
       "      <th>SENTIDO</th>\n",
       "      <th>FECHA</th>\n",
       "      <th>TARJETA</th>\n",
       "      <th>CONTRATO</th>\n",
       "      <th>Dates</th>\n",
       "      <th>Time</th>\n",
       "      <th>DÍA</th>\n",
       "      <th>HORA</th>\n",
       "      <th>M</th>\n",
       "      <th>DIA</th>\n",
       "    </tr>\n",
       "  </thead>\n",
       "  <tbody>\n",
       "    <tr>\n",
       "      <th>0</th>\n",
       "      <td>L42 E</td>\n",
       "      <td>Ida</td>\n",
       "      <td>02/05/2022 04:36:14 PM</td>\n",
       "      <td>1000001</td>\n",
       "      <td>Usuario comun</td>\n",
       "      <td>2022-02-05</td>\n",
       "      <td>16:36:14</td>\n",
       "      <td>02/05/2022</td>\n",
       "      <td>04:36:14</td>\n",
       "      <td>PM</td>\n",
       "      <td>02/05/2022</td>\n",
       "    </tr>\n",
       "    <tr>\n",
       "      <th>1</th>\n",
       "      <td>L35 T</td>\n",
       "      <td>Ida</td>\n",
       "      <td>02/05/2022 10:22:27 PM</td>\n",
       "      <td>1000002</td>\n",
       "      <td>Usuario comun</td>\n",
       "      <td>2022-02-05</td>\n",
       "      <td>22:22:27</td>\n",
       "      <td>02/05/2022</td>\n",
       "      <td>10:22:27</td>\n",
       "      <td>PM</td>\n",
       "      <td>02/05/2022</td>\n",
       "    </tr>\n",
       "    <tr>\n",
       "      <th>2</th>\n",
       "      <td>C</td>\n",
       "      <td>Ida</td>\n",
       "      <td>02/05/2022 03:20:12 PM</td>\n",
       "      <td>1000003</td>\n",
       "      <td>Usuario comun</td>\n",
       "      <td>2022-02-05</td>\n",
       "      <td>15:20:12</td>\n",
       "      <td>02/05/2022</td>\n",
       "      <td>03:20:12</td>\n",
       "      <td>PM</td>\n",
       "      <td>02/05/2022</td>\n",
       "    </tr>\n",
       "    <tr>\n",
       "      <th>3</th>\n",
       "      <td>C</td>\n",
       "      <td>Vuelta</td>\n",
       "      <td>02/05/2022 09:18:06 AM</td>\n",
       "      <td>1000003</td>\n",
       "      <td>Usuario comun</td>\n",
       "      <td>2022-02-05</td>\n",
       "      <td>09:18:06</td>\n",
       "      <td>02/05/2022</td>\n",
       "      <td>09:18:06</td>\n",
       "      <td>AM</td>\n",
       "      <td>02/05/2022</td>\n",
       "    </tr>\n",
       "    <tr>\n",
       "      <th>4</th>\n",
       "      <td>C</td>\n",
       "      <td>Ida</td>\n",
       "      <td>02/05/2022 06:56:40 AM</td>\n",
       "      <td>1000004</td>\n",
       "      <td>Usuario comun</td>\n",
       "      <td>2022-02-05</td>\n",
       "      <td>06:56:40</td>\n",
       "      <td>02/05/2022</td>\n",
       "      <td>06:56:40</td>\n",
       "      <td>AM</td>\n",
       "      <td>02/05/2022</td>\n",
       "    </tr>\n",
       "  </tbody>\n",
       "</table>\n",
       "</div>"
      ],
      "text/plain": [
       "   LINEA SENTIDO                   FECHA  TARJETA       CONTRATO       Dates  \\\n",
       "0  L42 E     Ida  02/05/2022 04:36:14 PM  1000001  Usuario comun  2022-02-05   \n",
       "1  L35 T     Ida  02/05/2022 10:22:27 PM  1000002  Usuario comun  2022-02-05   \n",
       "2      C     Ida  02/05/2022 03:20:12 PM  1000003  Usuario comun  2022-02-05   \n",
       "3      C  Vuelta  02/05/2022 09:18:06 AM  1000003  Usuario comun  2022-02-05   \n",
       "4      C     Ida  02/05/2022 06:56:40 AM  1000004  Usuario comun  2022-02-05   \n",
       "\n",
       "       Time         DÍA      HORA   M         DIA  \n",
       "0  16:36:14  02/05/2022  04:36:14  PM  02/05/2022  \n",
       "1  22:22:27  02/05/2022  10:22:27  PM  02/05/2022  \n",
       "2  15:20:12  02/05/2022  03:20:12  PM  02/05/2022  \n",
       "3  09:18:06  02/05/2022  09:18:06  AM  02/05/2022  \n",
       "4  06:56:40  02/05/2022  06:56:40  AM  02/05/2022  "
      ]
     },
     "execution_count": 42,
     "metadata": {},
     "output_type": "execute_result"
    }
   ],
   "source": [
    "df.head()"
   ]
  },
  {
   "cell_type": "code",
   "execution_count": null,
   "id": "f77b64de",
   "metadata": {},
   "outputs": [],
   "source": [
    "# Eliminamos las columnas que no nos hacen falta\n",
    "df = df.drop(['Dates', 'DÍA', 'HORA', 'M', 'TIME' ], axis=1)"
   ]
  },
  {
   "cell_type": "code",
   "execution_count": null,
   "id": "c819c97e",
   "metadata": {},
   "outputs": [],
   "source": [
    "df = df.rename(columns={\"Time\":\"TIME\"})"
   ]
  },
  {
   "cell_type": "code",
   "execution_count": null,
   "id": "d4caadc4",
   "metadata": {},
   "outputs": [
    {
     "data": {
      "text/html": [
       "<div>\n",
       "<style scoped>\n",
       "    .dataframe tbody tr th:only-of-type {\n",
       "        vertical-align: middle;\n",
       "    }\n",
       "\n",
       "    .dataframe tbody tr th {\n",
       "        vertical-align: top;\n",
       "    }\n",
       "\n",
       "    .dataframe thead th {\n",
       "        text-align: right;\n",
       "    }\n",
       "</style>\n",
       "<table border=\"1\" class=\"dataframe\">\n",
       "  <thead>\n",
       "    <tr style=\"text-align: right;\">\n",
       "      <th></th>\n",
       "      <th>LINEA</th>\n",
       "      <th>SENTIDO</th>\n",
       "      <th>FECHA</th>\n",
       "      <th>TARJETA</th>\n",
       "      <th>CONTRATO</th>\n",
       "      <th>TIME</th>\n",
       "      <th>DIA</th>\n",
       "    </tr>\n",
       "  </thead>\n",
       "  <tbody>\n",
       "    <tr>\n",
       "      <th>0</th>\n",
       "      <td>L42 E</td>\n",
       "      <td>Ida</td>\n",
       "      <td>02/05/2022 04:36:14 PM</td>\n",
       "      <td>1000001</td>\n",
       "      <td>Usuario comun</td>\n",
       "      <td>16:36:14</td>\n",
       "      <td>02/05/2022</td>\n",
       "    </tr>\n",
       "    <tr>\n",
       "      <th>1</th>\n",
       "      <td>L35 T</td>\n",
       "      <td>Ida</td>\n",
       "      <td>02/05/2022 10:22:27 PM</td>\n",
       "      <td>1000002</td>\n",
       "      <td>Usuario comun</td>\n",
       "      <td>22:22:27</td>\n",
       "      <td>02/05/2022</td>\n",
       "    </tr>\n",
       "    <tr>\n",
       "      <th>2</th>\n",
       "      <td>C</td>\n",
       "      <td>Ida</td>\n",
       "      <td>02/05/2022 03:20:12 PM</td>\n",
       "      <td>1000003</td>\n",
       "      <td>Usuario comun</td>\n",
       "      <td>15:20:12</td>\n",
       "      <td>02/05/2022</td>\n",
       "    </tr>\n",
       "    <tr>\n",
       "      <th>3</th>\n",
       "      <td>C</td>\n",
       "      <td>Vuelta</td>\n",
       "      <td>02/05/2022 09:18:06 AM</td>\n",
       "      <td>1000003</td>\n",
       "      <td>Usuario comun</td>\n",
       "      <td>09:18:06</td>\n",
       "      <td>02/05/2022</td>\n",
       "    </tr>\n",
       "    <tr>\n",
       "      <th>4</th>\n",
       "      <td>C</td>\n",
       "      <td>Ida</td>\n",
       "      <td>02/05/2022 06:56:40 AM</td>\n",
       "      <td>1000004</td>\n",
       "      <td>Usuario comun</td>\n",
       "      <td>06:56:40</td>\n",
       "      <td>02/05/2022</td>\n",
       "    </tr>\n",
       "  </tbody>\n",
       "</table>\n",
       "</div>"
      ],
      "text/plain": [
       "   LINEA SENTIDO                   FECHA  TARJETA       CONTRATO      TIME  \\\n",
       "0  L42 E     Ida  02/05/2022 04:36:14 PM  1000001  Usuario comun  16:36:14   \n",
       "1  L35 T     Ida  02/05/2022 10:22:27 PM  1000002  Usuario comun  22:22:27   \n",
       "2      C     Ida  02/05/2022 03:20:12 PM  1000003  Usuario comun  15:20:12   \n",
       "3      C  Vuelta  02/05/2022 09:18:06 AM  1000003  Usuario comun  09:18:06   \n",
       "4      C     Ida  02/05/2022 06:56:40 AM  1000004  Usuario comun  06:56:40   \n",
       "\n",
       "          DIA  \n",
       "0  02/05/2022  \n",
       "1  02/05/2022  \n",
       "2  02/05/2022  \n",
       "3  02/05/2022  \n",
       "4  02/05/2022  "
      ]
     },
     "execution_count": 55,
     "metadata": {},
     "output_type": "execute_result"
    }
   ],
   "source": [
    "# Nuevo dataset con el que vamos a trabajar\n",
    "df.head()"
   ]
  },
  {
   "cell_type": "code",
   "execution_count": null,
   "id": "636b2fb7",
   "metadata": {},
   "outputs": [
    {
     "data": {
      "text/plain": [
       "(8430650, 7)"
      ]
     },
     "execution_count": 56,
     "metadata": {},
     "output_type": "execute_result"
    }
   ],
   "source": [
    "df.shape"
   ]
  },
  {
   "cell_type": "code",
   "execution_count": null,
   "id": "cce263f6",
   "metadata": {},
   "outputs": [],
   "source": [
    "#exportamos el csv\n",
    "df.to_csv(\"../Mentoria_diplomatura/base_mayo22_habil_v2.csv\", index=False)"
   ]
  },
  {
   "cell_type": "code",
   "execution_count": null,
   "id": "6ff4ab9a",
   "metadata": {},
   "outputs": [],
   "source": []
  }
 ],
 "metadata": {
  "kernelspec": {
   "display_name": "Python 3.10.0 64-bit",
   "language": "python",
   "name": "python3"
  },
  "language_info": {
   "codemirror_mode": {
    "name": "ipython",
    "version": 3
   },
   "file_extension": ".py",
   "mimetype": "text/x-python",
   "name": "python",
   "nbconvert_exporter": "python",
   "pygments_lexer": "ipython3",
   "version": "3.10.0"
  },
  "toc": {
   "base_numbering": 1,
   "nav_menu": {},
   "number_sections": true,
   "sideBar": true,
   "skip_h1_title": false,
   "title_cell": "Table of Contents",
   "title_sidebar": "Contents",
   "toc_cell": false,
   "toc_position": {},
   "toc_section_display": true,
   "toc_window_display": false
  },
  "vscode": {
   "interpreter": {
    "hash": "aee8b7b246df8f9039afb4144a1f6fd8d2ca17a180786b69acc140d282b71a49"
   }
  }
 },
 "nbformat": 4,
 "nbformat_minor": 5
}
