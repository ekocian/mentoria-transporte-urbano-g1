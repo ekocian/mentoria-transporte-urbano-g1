{
 "cells": [
  {
   "cell_type": "markdown",
   "id": "0b0e26e6",
   "metadata": {},
   "source": [
    "Esta notebook parte tomando el dataframe generado en la notebook anterior. Luego de un breve análisis, procedemos a armar el conjunto que se utilizará para entrenar los modelos de aprendizaje suervisado."
   ]
  },
  {
   "cell_type": "code",
   "execution_count": null,
   "id": "3812f475",
   "metadata": {},
   "outputs": [],
   "source": [
    "#pip install xgboost jupyter"
   ]
  },
  {
   "cell_type": "code",
   "execution_count": null,
   "id": "082ddd1b",
   "metadata": {},
   "outputs": [],
   "source": [
    " #pip install imblearn"
   ]
  },
  {
   "cell_type": "markdown",
   "id": "32448c7a",
   "metadata": {},
   "source": [
    "# IMPORTS"
   ]
  },
  {
   "cell_type": "code",
   "execution_count": 1,
   "id": "22e882c0",
   "metadata": {},
   "outputs": [],
   "source": [
    "import pandas as pd\n",
    "import numpy as np\n",
    "from sklearn.preprocessing import OneHotEncoder\n",
    "from scipy import stats\n",
    "from datetime import datetime\n",
    "\n",
    "from sklearn.preprocessing import StandardScaler, LabelEncoder\n",
    "from sklearn.preprocessing import MinMaxScaler\n",
    "from sklearn.preprocessing import RobustScaler\n",
    "from sklearn.preprocessing import LabelBinarizer\n",
    "\n",
    "from sklearn.model_selection import train_test_split, GridSearchCV, StratifiedKFold\n",
    "from sklearn.metrics import accuracy_score, ConfusionMatrixDisplay, classification_report\n",
    "\n",
    "from sklearn.tree import DecisionTreeClassifier\n",
    "from sklearn.linear_model import SGDClassifier\n",
    "from sklearn.model_selection import ParameterGrid\n",
    "from sklearn.model_selection import GridSearchCV\n",
    "from sklearn import ensemble\n",
    "from xgboost import XGBRegressor, XGBRFRegressor, XGBClassifier, XGBRFClassifier\n",
    "from sklearn.metrics import confusion_matrix\n",
    "from sklearn.metrics import plot_confusion_matrix\n",
    "from sklearn.metrics import classification_report\n",
    "from sklearn.ensemble import RandomForestClassifier\n",
    "\n",
    "#from imblearn.over_sampling import SMOTE\n",
    "from sklearn.svm import LinearSVC\n",
    "from sklearn.svm import SVC\n",
    "\n",
    "from matplotlib import pyplot as plt\n"
   ]
  },
  {
   "cell_type": "markdown",
   "id": "d6dc6bc7",
   "metadata": {},
   "source": [
    "# Read Data"
   ]
  },
  {
   "cell_type": "code",
   "execution_count": 2,
   "id": "c5da56d4",
   "metadata": {},
   "outputs": [],
   "source": [
    "df = pd.read_csv(\"../Mentoria_diplomatura/base_mayo22_habil_v3.csv\")"
   ]
  },
  {
   "cell_type": "code",
   "execution_count": 3,
   "id": "ab0bd668",
   "metadata": {},
   "outputs": [
    {
     "data": {
      "text/html": [
       "<div>\n",
       "<style scoped>\n",
       "    .dataframe tbody tr th:only-of-type {\n",
       "        vertical-align: middle;\n",
       "    }\n",
       "\n",
       "    .dataframe tbody tr th {\n",
       "        vertical-align: top;\n",
       "    }\n",
       "\n",
       "    .dataframe thead th {\n",
       "        text-align: right;\n",
       "    }\n",
       "</style>\n",
       "<table border=\"1\" class=\"dataframe\">\n",
       "  <thead>\n",
       "    <tr style=\"text-align: right;\">\n",
       "      <th></th>\n",
       "      <th>TARJETA</th>\n",
       "      <th>CONTRATO</th>\n",
       "      <th>BOLETOS</th>\n",
       "      <th>CANT_LINEAS</th>\n",
       "      <th>LINEA_FRECUENTE</th>\n",
       "      <th>CANTIDAD_DIAS</th>\n",
       "      <th>PRIMER_DIA</th>\n",
       "      <th>ULTIMO_DIA</th>\n",
       "      <th>HORA_PRIMER_VIAJE</th>\n",
       "      <th>HORA_ULTIMO_VIAJE</th>\n",
       "      <th>HORA_PROMEDIO</th>\n",
       "    </tr>\n",
       "  </thead>\n",
       "  <tbody>\n",
       "    <tr>\n",
       "      <th>0</th>\n",
       "      <td>1000001</td>\n",
       "      <td>Usuario comun</td>\n",
       "      <td>20</td>\n",
       "      <td>7</td>\n",
       "      <td>['L25']</td>\n",
       "      <td>7</td>\n",
       "      <td>2/5/2022</td>\n",
       "      <td>30/05/2022</td>\n",
       "      <td>16</td>\n",
       "      <td>21</td>\n",
       "      <td>19</td>\n",
       "    </tr>\n",
       "    <tr>\n",
       "      <th>1</th>\n",
       "      <td>1000002</td>\n",
       "      <td>Usuario comun</td>\n",
       "      <td>4</td>\n",
       "      <td>2</td>\n",
       "      <td>['L35 T']</td>\n",
       "      <td>3</td>\n",
       "      <td>2/5/2022</td>\n",
       "      <td>5/5/2022</td>\n",
       "      <td>22</td>\n",
       "      <td>20</td>\n",
       "      <td>20</td>\n",
       "    </tr>\n",
       "    <tr>\n",
       "      <th>2</th>\n",
       "      <td>1000003</td>\n",
       "      <td>Usuario comun</td>\n",
       "      <td>22</td>\n",
       "      <td>4</td>\n",
       "      <td>['C']</td>\n",
       "      <td>10</td>\n",
       "      <td>2/5/2022</td>\n",
       "      <td>30/05/2022</td>\n",
       "      <td>15</td>\n",
       "      <td>9</td>\n",
       "      <td>11</td>\n",
       "    </tr>\n",
       "    <tr>\n",
       "      <th>3</th>\n",
       "      <td>1000004</td>\n",
       "      <td>Usuario comun</td>\n",
       "      <td>52</td>\n",
       "      <td>3</td>\n",
       "      <td>['C']</td>\n",
       "      <td>19</td>\n",
       "      <td>2/5/2022</td>\n",
       "      <td>31/05/2022</td>\n",
       "      <td>6</td>\n",
       "      <td>22</td>\n",
       "      <td>14</td>\n",
       "    </tr>\n",
       "    <tr>\n",
       "      <th>4</th>\n",
       "      <td>1000005</td>\n",
       "      <td>Usuario comun</td>\n",
       "      <td>20</td>\n",
       "      <td>4</td>\n",
       "      <td>['L74']</td>\n",
       "      <td>18</td>\n",
       "      <td>2/5/2022</td>\n",
       "      <td>31/05/2022</td>\n",
       "      <td>6</td>\n",
       "      <td>5</td>\n",
       "      <td>6</td>\n",
       "    </tr>\n",
       "  </tbody>\n",
       "</table>\n",
       "</div>"
      ],
      "text/plain": [
       "   TARJETA       CONTRATO  BOLETOS  CANT_LINEAS LINEA_FRECUENTE  \\\n",
       "0  1000001  Usuario comun       20            7         ['L25']   \n",
       "1  1000002  Usuario comun        4            2       ['L35 T']   \n",
       "2  1000003  Usuario comun       22            4           ['C']   \n",
       "3  1000004  Usuario comun       52            3           ['C']   \n",
       "4  1000005  Usuario comun       20            4         ['L74']   \n",
       "\n",
       "   CANTIDAD_DIAS PRIMER_DIA  ULTIMO_DIA  HORA_PRIMER_VIAJE  HORA_ULTIMO_VIAJE  \\\n",
       "0              7   2/5/2022  30/05/2022                 16                 21   \n",
       "1              3   2/5/2022    5/5/2022                 22                 20   \n",
       "2             10   2/5/2022  30/05/2022                 15                  9   \n",
       "3             19   2/5/2022  31/05/2022                  6                 22   \n",
       "4             18   2/5/2022  31/05/2022                  6                  5   \n",
       "\n",
       "   HORA_PROMEDIO  \n",
       "0             19  \n",
       "1             20  \n",
       "2             11  \n",
       "3             14  \n",
       "4              6  "
      ]
     },
     "execution_count": 3,
     "metadata": {},
     "output_type": "execute_result"
    }
   ],
   "source": [
    "df.head()"
   ]
  },
  {
   "cell_type": "code",
   "execution_count": 4,
   "id": "5858dbcf",
   "metadata": {},
   "outputs": [
    {
     "data": {
      "text/plain": [
       "TARJETA               int64\n",
       "CONTRATO             object\n",
       "BOLETOS               int64\n",
       "CANT_LINEAS           int64\n",
       "LINEA_FRECUENTE      object\n",
       "CANTIDAD_DIAS         int64\n",
       "PRIMER_DIA           object\n",
       "ULTIMO_DIA           object\n",
       "HORA_PRIMER_VIAJE     int64\n",
       "HORA_ULTIMO_VIAJE     int64\n",
       "HORA_PROMEDIO         int64\n",
       "dtype: object"
      ]
     },
     "execution_count": 4,
     "metadata": {},
     "output_type": "execute_result"
    }
   ],
   "source": [
    "df.dtypes"
   ]
  },
  {
   "cell_type": "code",
   "execution_count": 5,
   "id": "3d0eb215",
   "metadata": {},
   "outputs": [
    {
     "data": {
      "text/plain": [
       "Usuario comun      532028\n",
       "BEG                 83263\n",
       "Adultos Mayores     31473\n",
       "Discapacidad        15570\n",
       "Resto               11259\n",
       "BSC                 10358\n",
       "BOS                  4941\n",
       "Name: CONTRATO, dtype: int64"
      ]
     },
     "execution_count": 5,
     "metadata": {},
     "output_type": "execute_result"
    }
   ],
   "source": [
    "df.CONTRATO.value_counts()"
   ]
  },
  {
   "cell_type": "code",
   "execution_count": 5,
   "id": "24155427",
   "metadata": {},
   "outputs": [],
   "source": [
    "categorical_cols = ['LINEA_FRECUENTE','PRIMER_DIA', 'ULTIMO_DIA']"
   ]
  },
  {
   "cell_type": "code",
   "execution_count": 6,
   "id": "97ce639d",
   "metadata": {},
   "outputs": [
    {
     "data": {
      "text/plain": [
       "LINEA_FRECUENTE    71\n",
       "PRIMER_DIA         28\n",
       "ULTIMO_DIA         28\n",
       "dtype: int64"
      ]
     },
     "execution_count": 6,
     "metadata": {},
     "output_type": "execute_result"
    }
   ],
   "source": [
    "df[categorical_cols].nunique()"
   ]
  },
  {
   "cell_type": "code",
   "execution_count": 7,
   "id": "0c72c183",
   "metadata": {},
   "outputs": [],
   "source": [
    "X = df.drop(['CONTRATO'],axis=1)"
   ]
  },
  {
   "cell_type": "code",
   "execution_count": 8,
   "id": "dcccbd1c",
   "metadata": {},
   "outputs": [],
   "source": [
    "y = df.CONTRATO"
   ]
  },
  {
   "cell_type": "code",
   "execution_count": 9,
   "id": "429a28f5",
   "metadata": {},
   "outputs": [
    {
     "data": {
      "text/html": [
       "<div>\n",
       "<style scoped>\n",
       "    .dataframe tbody tr th:only-of-type {\n",
       "        vertical-align: middle;\n",
       "    }\n",
       "\n",
       "    .dataframe tbody tr th {\n",
       "        vertical-align: top;\n",
       "    }\n",
       "\n",
       "    .dataframe thead th {\n",
       "        text-align: right;\n",
       "    }\n",
       "</style>\n",
       "<table border=\"1\" class=\"dataframe\">\n",
       "  <thead>\n",
       "    <tr style=\"text-align: right;\">\n",
       "      <th></th>\n",
       "      <th>TARJETA</th>\n",
       "      <th>BOLETOS</th>\n",
       "      <th>CANT_LINEAS</th>\n",
       "      <th>LINEA_FRECUENTE</th>\n",
       "      <th>CANTIDAD_DIAS</th>\n",
       "      <th>PRIMER_DIA</th>\n",
       "      <th>ULTIMO_DIA</th>\n",
       "      <th>HORA_PRIMER_VIAJE</th>\n",
       "      <th>HORA_ULTIMO_VIAJE</th>\n",
       "      <th>HORA_PROMEDIO</th>\n",
       "    </tr>\n",
       "  </thead>\n",
       "  <tbody>\n",
       "    <tr>\n",
       "      <th>0</th>\n",
       "      <td>-0.996663</td>\n",
       "      <td>0.928571</td>\n",
       "      <td>1.333333</td>\n",
       "      <td>-0.303030</td>\n",
       "      <td>0.375</td>\n",
       "      <td>0.0</td>\n",
       "      <td>0.000000</td>\n",
       "      <td>0.428571</td>\n",
       "      <td>1.333333</td>\n",
       "      <td>1.50</td>\n",
       "    </tr>\n",
       "    <tr>\n",
       "      <th>1</th>\n",
       "      <td>-0.996660</td>\n",
       "      <td>-0.214286</td>\n",
       "      <td>-0.333333</td>\n",
       "      <td>0.000000</td>\n",
       "      <td>-0.125</td>\n",
       "      <td>0.0</td>\n",
       "      <td>0.333333</td>\n",
       "      <td>1.285714</td>\n",
       "      <td>1.166667</td>\n",
       "      <td>1.75</td>\n",
       "    </tr>\n",
       "    <tr>\n",
       "      <th>2</th>\n",
       "      <td>-0.996657</td>\n",
       "      <td>1.071429</td>\n",
       "      <td>0.333333</td>\n",
       "      <td>-0.818182</td>\n",
       "      <td>0.750</td>\n",
       "      <td>0.0</td>\n",
       "      <td>0.000000</td>\n",
       "      <td>0.285714</td>\n",
       "      <td>-0.666667</td>\n",
       "      <td>-0.50</td>\n",
       "    </tr>\n",
       "    <tr>\n",
       "      <th>3</th>\n",
       "      <td>-0.996655</td>\n",
       "      <td>3.214286</td>\n",
       "      <td>0.000000</td>\n",
       "      <td>-0.818182</td>\n",
       "      <td>1.875</td>\n",
       "      <td>0.0</td>\n",
       "      <td>0.111111</td>\n",
       "      <td>-1.000000</td>\n",
       "      <td>1.500000</td>\n",
       "      <td>0.25</td>\n",
       "    </tr>\n",
       "    <tr>\n",
       "      <th>4</th>\n",
       "      <td>-0.996652</td>\n",
       "      <td>0.928571</td>\n",
       "      <td>0.333333</td>\n",
       "      <td>0.787879</td>\n",
       "      <td>1.750</td>\n",
       "      <td>0.0</td>\n",
       "      <td>0.111111</td>\n",
       "      <td>-1.000000</td>\n",
       "      <td>-1.333333</td>\n",
       "      <td>-1.75</td>\n",
       "    </tr>\n",
       "    <tr>\n",
       "      <th>...</th>\n",
       "      <td>...</td>\n",
       "      <td>...</td>\n",
       "      <td>...</td>\n",
       "      <td>...</td>\n",
       "      <td>...</td>\n",
       "      <td>...</td>\n",
       "      <td>...</td>\n",
       "      <td>...</td>\n",
       "      <td>...</td>\n",
       "      <td>...</td>\n",
       "    </tr>\n",
       "    <tr>\n",
       "      <th>688887</th>\n",
       "      <td>0.980738</td>\n",
       "      <td>-0.357143</td>\n",
       "      <td>-0.333333</td>\n",
       "      <td>-0.424242</td>\n",
       "      <td>-0.375</td>\n",
       "      <td>1.0</td>\n",
       "      <td>0.111111</td>\n",
       "      <td>-0.571429</td>\n",
       "      <td>0.333333</td>\n",
       "      <td>-0.25</td>\n",
       "    </tr>\n",
       "    <tr>\n",
       "      <th>688888</th>\n",
       "      <td>0.980741</td>\n",
       "      <td>-0.428571</td>\n",
       "      <td>-0.666667</td>\n",
       "      <td>-0.090909</td>\n",
       "      <td>-0.375</td>\n",
       "      <td>1.0</td>\n",
       "      <td>0.111111</td>\n",
       "      <td>0.714286</td>\n",
       "      <td>0.833333</td>\n",
       "      <td>1.25</td>\n",
       "    </tr>\n",
       "    <tr>\n",
       "      <th>688889</th>\n",
       "      <td>0.980744</td>\n",
       "      <td>-0.428571</td>\n",
       "      <td>-0.666667</td>\n",
       "      <td>0.303030</td>\n",
       "      <td>-0.375</td>\n",
       "      <td>1.0</td>\n",
       "      <td>0.111111</td>\n",
       "      <td>0.714286</td>\n",
       "      <td>0.833333</td>\n",
       "      <td>1.25</td>\n",
       "    </tr>\n",
       "    <tr>\n",
       "      <th>688890</th>\n",
       "      <td>0.980747</td>\n",
       "      <td>-0.428571</td>\n",
       "      <td>-0.666667</td>\n",
       "      <td>-0.818182</td>\n",
       "      <td>-0.375</td>\n",
       "      <td>1.0</td>\n",
       "      <td>0.111111</td>\n",
       "      <td>0.142857</td>\n",
       "      <td>0.166667</td>\n",
       "      <td>0.25</td>\n",
       "    </tr>\n",
       "    <tr>\n",
       "      <th>688891</th>\n",
       "      <td>0.980749</td>\n",
       "      <td>-0.357143</td>\n",
       "      <td>-0.333333</td>\n",
       "      <td>-0.727273</td>\n",
       "      <td>-0.375</td>\n",
       "      <td>1.0</td>\n",
       "      <td>0.111111</td>\n",
       "      <td>0.142857</td>\n",
       "      <td>0.166667</td>\n",
       "      <td>0.25</td>\n",
       "    </tr>\n",
       "  </tbody>\n",
       "</table>\n",
       "<p>688892 rows × 10 columns</p>\n",
       "</div>"
      ],
      "text/plain": [
       "         TARJETA   BOLETOS  CANT_LINEAS  LINEA_FRECUENTE  CANTIDAD_DIAS  \\\n",
       "0      -0.996663  0.928571     1.333333        -0.303030          0.375   \n",
       "1      -0.996660 -0.214286    -0.333333         0.000000         -0.125   \n",
       "2      -0.996657  1.071429     0.333333        -0.818182          0.750   \n",
       "3      -0.996655  3.214286     0.000000        -0.818182          1.875   \n",
       "4      -0.996652  0.928571     0.333333         0.787879          1.750   \n",
       "...          ...       ...          ...              ...            ...   \n",
       "688887  0.980738 -0.357143    -0.333333        -0.424242         -0.375   \n",
       "688888  0.980741 -0.428571    -0.666667        -0.090909         -0.375   \n",
       "688889  0.980744 -0.428571    -0.666667         0.303030         -0.375   \n",
       "688890  0.980747 -0.428571    -0.666667        -0.818182         -0.375   \n",
       "688891  0.980749 -0.357143    -0.333333        -0.727273         -0.375   \n",
       "\n",
       "        PRIMER_DIA  ULTIMO_DIA  HORA_PRIMER_VIAJE  HORA_ULTIMO_VIAJE  \\\n",
       "0              0.0    0.000000           0.428571           1.333333   \n",
       "1              0.0    0.333333           1.285714           1.166667   \n",
       "2              0.0    0.000000           0.285714          -0.666667   \n",
       "3              0.0    0.111111          -1.000000           1.500000   \n",
       "4              0.0    0.111111          -1.000000          -1.333333   \n",
       "...            ...         ...                ...                ...   \n",
       "688887         1.0    0.111111          -0.571429           0.333333   \n",
       "688888         1.0    0.111111           0.714286           0.833333   \n",
       "688889         1.0    0.111111           0.714286           0.833333   \n",
       "688890         1.0    0.111111           0.142857           0.166667   \n",
       "688891         1.0    0.111111           0.142857           0.166667   \n",
       "\n",
       "        HORA_PROMEDIO  \n",
       "0                1.50  \n",
       "1                1.75  \n",
       "2               -0.50  \n",
       "3                0.25  \n",
       "4               -1.75  \n",
       "...               ...  \n",
       "688887          -0.25  \n",
       "688888           1.25  \n",
       "688889           1.25  \n",
       "688890           0.25  \n",
       "688891           0.25  \n",
       "\n",
       "[688892 rows x 10 columns]"
      ]
     },
     "execution_count": 9,
     "metadata": {},
     "output_type": "execute_result"
    }
   ],
   "source": [
    "for col in categorical_cols:\n",
    "    X[col] = X[col].astype(str)\n",
    "    X[col] = LabelEncoder().fit_transform(X[col])\n",
    "\n",
    "x_names = X.columns\n",
    "X = RobustScaler().fit_transform(X)\n",
    "X = pd.DataFrame(X, columns=x_names)\n",
    "X"
   ]
  },
  {
   "cell_type": "code",
   "execution_count": 10,
   "id": "bd9298a8",
   "metadata": {},
   "outputs": [],
   "source": [
    "x_train, x_test, y_train, y_test = train_test_split(X, y, train_size=0.8, stratify = y)"
   ]
  },
  {
   "cell_type": "markdown",
   "id": "9fb01631",
   "metadata": {},
   "source": [
    "# Analysis"
   ]
  },
  {
   "cell_type": "markdown",
   "id": "5bc8a4de",
   "metadata": {},
   "source": [
    "Vamos a utilizar los algoritmos Decision Tree Classifier y Random Forest para intentar predecir los tipos de contratos"
   ]
  },
  {
   "cell_type": "markdown",
   "id": "0d9dd593",
   "metadata": {},
   "source": [
    "## Decision Tree Classifier"
   ]
  },
  {
   "cell_type": "code",
   "execution_count": 22,
   "id": "0af2c068",
   "metadata": {},
   "outputs": [
    {
     "data": {
      "text/plain": [
       "{'ccp_alpha': 0.0,\n",
       " 'class_weight': None,\n",
       " 'criterion': 'gini',\n",
       " 'max_depth': None,\n",
       " 'max_features': None,\n",
       " 'max_leaf_nodes': None,\n",
       " 'min_impurity_decrease': 0.0,\n",
       " 'min_samples_leaf': 1,\n",
       " 'min_samples_split': 2,\n",
       " 'min_weight_fraction_leaf': 0.0,\n",
       " 'random_state': 0,\n",
       " 'splitter': 'best'}"
      ]
     },
     "execution_count": 22,
     "metadata": {},
     "output_type": "execute_result"
    }
   ],
   "source": [
    "model_tree = DecisionTreeClassifier(random_state=0)\n",
    "model_tree.get_params()"
   ]
  },
  {
   "cell_type": "code",
   "execution_count": 45,
   "id": "a7deb328",
   "metadata": {},
   "outputs": [
    {
     "name": "stdout",
     "output_type": "stream",
     "text": [
      "Combinaciones posibles: 72\n"
     ]
    }
   ],
   "source": [
    "param_grid_tree = {\n",
    "    'criterion': ['gini', 'entropy'],   #criterio de partición\n",
    "    'max_depth': [2,4,6],   #profundidad máxima del arbol\n",
    "    'min_samples_leaf': [1,2,3],    #cantidad mínima de samples por hoja\n",
    "    'ccp_alpha': [0.001, 0.01, 1, 10],\n",
    "    'splitter':[\"best\"],\n",
    "}\n",
    "\n",
    "print(f'Combinaciones posibles: {len(ParameterGrid(param_grid_tree))}')"
   ]
  },
  {
   "cell_type": "code",
   "execution_count": 46,
   "id": "386fcb60",
   "metadata": {},
   "outputs": [
    {
     "data": {
      "text/html": [
       "<style>#sk-container-id-4 {color: black;background-color: white;}#sk-container-id-4 pre{padding: 0;}#sk-container-id-4 div.sk-toggleable {background-color: white;}#sk-container-id-4 label.sk-toggleable__label {cursor: pointer;display: block;width: 100%;margin-bottom: 0;padding: 0.3em;box-sizing: border-box;text-align: center;}#sk-container-id-4 label.sk-toggleable__label-arrow:before {content: \"▸\";float: left;margin-right: 0.25em;color: #696969;}#sk-container-id-4 label.sk-toggleable__label-arrow:hover:before {color: black;}#sk-container-id-4 div.sk-estimator:hover label.sk-toggleable__label-arrow:before {color: black;}#sk-container-id-4 div.sk-toggleable__content {max-height: 0;max-width: 0;overflow: hidden;text-align: left;background-color: #f0f8ff;}#sk-container-id-4 div.sk-toggleable__content pre {margin: 0.2em;color: black;border-radius: 0.25em;background-color: #f0f8ff;}#sk-container-id-4 input.sk-toggleable__control:checked~div.sk-toggleable__content {max-height: 200px;max-width: 100%;overflow: auto;}#sk-container-id-4 input.sk-toggleable__control:checked~label.sk-toggleable__label-arrow:before {content: \"▾\";}#sk-container-id-4 div.sk-estimator input.sk-toggleable__control:checked~label.sk-toggleable__label {background-color: #d4ebff;}#sk-container-id-4 div.sk-label input.sk-toggleable__control:checked~label.sk-toggleable__label {background-color: #d4ebff;}#sk-container-id-4 input.sk-hidden--visually {border: 0;clip: rect(1px 1px 1px 1px);clip: rect(1px, 1px, 1px, 1px);height: 1px;margin: -1px;overflow: hidden;padding: 0;position: absolute;width: 1px;}#sk-container-id-4 div.sk-estimator {font-family: monospace;background-color: #f0f8ff;border: 1px dotted black;border-radius: 0.25em;box-sizing: border-box;margin-bottom: 0.5em;}#sk-container-id-4 div.sk-estimator:hover {background-color: #d4ebff;}#sk-container-id-4 div.sk-parallel-item::after {content: \"\";width: 100%;border-bottom: 1px solid gray;flex-grow: 1;}#sk-container-id-4 div.sk-label:hover label.sk-toggleable__label {background-color: #d4ebff;}#sk-container-id-4 div.sk-serial::before {content: \"\";position: absolute;border-left: 1px solid gray;box-sizing: border-box;top: 0;bottom: 0;left: 50%;z-index: 0;}#sk-container-id-4 div.sk-serial {display: flex;flex-direction: column;align-items: center;background-color: white;padding-right: 0.2em;padding-left: 0.2em;position: relative;}#sk-container-id-4 div.sk-item {position: relative;z-index: 1;}#sk-container-id-4 div.sk-parallel {display: flex;align-items: stretch;justify-content: center;background-color: white;position: relative;}#sk-container-id-4 div.sk-item::before, #sk-container-id-4 div.sk-parallel-item::before {content: \"\";position: absolute;border-left: 1px solid gray;box-sizing: border-box;top: 0;bottom: 0;left: 50%;z-index: -1;}#sk-container-id-4 div.sk-parallel-item {display: flex;flex-direction: column;z-index: 1;position: relative;background-color: white;}#sk-container-id-4 div.sk-parallel-item:first-child::after {align-self: flex-end;width: 50%;}#sk-container-id-4 div.sk-parallel-item:last-child::after {align-self: flex-start;width: 50%;}#sk-container-id-4 div.sk-parallel-item:only-child::after {width: 0;}#sk-container-id-4 div.sk-dashed-wrapped {border: 1px dashed gray;margin: 0 0.4em 0.5em 0.4em;box-sizing: border-box;padding-bottom: 0.4em;background-color: white;}#sk-container-id-4 div.sk-label label {font-family: monospace;font-weight: bold;display: inline-block;line-height: 1.2em;}#sk-container-id-4 div.sk-label-container {text-align: center;}#sk-container-id-4 div.sk-container {/* jupyter's `normalize.less` sets `[hidden] { display: none; }` but bootstrap.min.css set `[hidden] { display: none !important; }` so we also need the `!important` here to be able to override the default hidden behavior on the sphinx rendered scikit-learn.org. See: https://github.com/scikit-learn/scikit-learn/issues/21755 */display: inline-block !important;position: relative;}#sk-container-id-4 div.sk-text-repr-fallback {display: none;}</style><div id=\"sk-container-id-4\" class=\"sk-top-container\"><div class=\"sk-text-repr-fallback\"><pre>GridSearchCV(cv=5, estimator=DecisionTreeClassifier(random_state=0),\n",
       "             param_grid={&#x27;ccp_alpha&#x27;: [0.001, 0.01, 1, 10],\n",
       "                         &#x27;criterion&#x27;: [&#x27;gini&#x27;, &#x27;entropy&#x27;],\n",
       "                         &#x27;max_depth&#x27;: [2, 4, 6], &#x27;min_samples_leaf&#x27;: [1, 2, 3],\n",
       "                         &#x27;splitter&#x27;: [&#x27;best&#x27;]},\n",
       "             scoring=&#x27;accuracy&#x27;)</pre><b>In a Jupyter environment, please rerun this cell to show the HTML representation or trust the notebook. <br />On GitHub, the HTML representation is unable to render, please try loading this page with nbviewer.org.</b></div><div class=\"sk-container\" hidden><div class=\"sk-item sk-dashed-wrapped\"><div class=\"sk-label-container\"><div class=\"sk-label sk-toggleable\"><input class=\"sk-toggleable__control sk-hidden--visually\" id=\"sk-estimator-id-6\" type=\"checkbox\" ><label for=\"sk-estimator-id-6\" class=\"sk-toggleable__label sk-toggleable__label-arrow\">GridSearchCV</label><div class=\"sk-toggleable__content\"><pre>GridSearchCV(cv=5, estimator=DecisionTreeClassifier(random_state=0),\n",
       "             param_grid={&#x27;ccp_alpha&#x27;: [0.001, 0.01, 1, 10],\n",
       "                         &#x27;criterion&#x27;: [&#x27;gini&#x27;, &#x27;entropy&#x27;],\n",
       "                         &#x27;max_depth&#x27;: [2, 4, 6], &#x27;min_samples_leaf&#x27;: [1, 2, 3],\n",
       "                         &#x27;splitter&#x27;: [&#x27;best&#x27;]},\n",
       "             scoring=&#x27;accuracy&#x27;)</pre></div></div></div><div class=\"sk-parallel\"><div class=\"sk-parallel-item\"><div class=\"sk-item\"><div class=\"sk-label-container\"><div class=\"sk-label sk-toggleable\"><input class=\"sk-toggleable__control sk-hidden--visually\" id=\"sk-estimator-id-7\" type=\"checkbox\" ><label for=\"sk-estimator-id-7\" class=\"sk-toggleable__label sk-toggleable__label-arrow\">estimator: DecisionTreeClassifier</label><div class=\"sk-toggleable__content\"><pre>DecisionTreeClassifier(random_state=0)</pre></div></div></div><div class=\"sk-serial\"><div class=\"sk-item\"><div class=\"sk-estimator sk-toggleable\"><input class=\"sk-toggleable__control sk-hidden--visually\" id=\"sk-estimator-id-8\" type=\"checkbox\" ><label for=\"sk-estimator-id-8\" class=\"sk-toggleable__label sk-toggleable__label-arrow\">DecisionTreeClassifier</label><div class=\"sk-toggleable__content\"><pre>DecisionTreeClassifier(random_state=0)</pre></div></div></div></div></div></div></div></div></div></div>"
      ],
      "text/plain": [
       "GridSearchCV(cv=5, estimator=DecisionTreeClassifier(random_state=0),\n",
       "             param_grid={'ccp_alpha': [0.001, 0.01, 1, 10],\n",
       "                         'criterion': ['gini', 'entropy'],\n",
       "                         'max_depth': [2, 4, 6], 'min_samples_leaf': [1, 2, 3],\n",
       "                         'splitter': ['best']},\n",
       "             scoring='accuracy')"
      ]
     },
     "execution_count": 46,
     "metadata": {},
     "output_type": "execute_result"
    }
   ],
   "source": [
    "model_tree = DecisionTreeClassifier(random_state=0)\n",
    "grid_cv = GridSearchCV(model_tree, param_grid_tree, scoring='accuracy', cv=5)\n",
    "grid_cv.fit(x_train, y_train)"
   ]
  },
  {
   "cell_type": "code",
   "execution_count": 47,
   "id": "16711d85",
   "metadata": {},
   "outputs": [
    {
     "data": {
      "text/html": [
       "<style>#sk-container-id-5 {color: black;background-color: white;}#sk-container-id-5 pre{padding: 0;}#sk-container-id-5 div.sk-toggleable {background-color: white;}#sk-container-id-5 label.sk-toggleable__label {cursor: pointer;display: block;width: 100%;margin-bottom: 0;padding: 0.3em;box-sizing: border-box;text-align: center;}#sk-container-id-5 label.sk-toggleable__label-arrow:before {content: \"▸\";float: left;margin-right: 0.25em;color: #696969;}#sk-container-id-5 label.sk-toggleable__label-arrow:hover:before {color: black;}#sk-container-id-5 div.sk-estimator:hover label.sk-toggleable__label-arrow:before {color: black;}#sk-container-id-5 div.sk-toggleable__content {max-height: 0;max-width: 0;overflow: hidden;text-align: left;background-color: #f0f8ff;}#sk-container-id-5 div.sk-toggleable__content pre {margin: 0.2em;color: black;border-radius: 0.25em;background-color: #f0f8ff;}#sk-container-id-5 input.sk-toggleable__control:checked~div.sk-toggleable__content {max-height: 200px;max-width: 100%;overflow: auto;}#sk-container-id-5 input.sk-toggleable__control:checked~label.sk-toggleable__label-arrow:before {content: \"▾\";}#sk-container-id-5 div.sk-estimator input.sk-toggleable__control:checked~label.sk-toggleable__label {background-color: #d4ebff;}#sk-container-id-5 div.sk-label input.sk-toggleable__control:checked~label.sk-toggleable__label {background-color: #d4ebff;}#sk-container-id-5 input.sk-hidden--visually {border: 0;clip: rect(1px 1px 1px 1px);clip: rect(1px, 1px, 1px, 1px);height: 1px;margin: -1px;overflow: hidden;padding: 0;position: absolute;width: 1px;}#sk-container-id-5 div.sk-estimator {font-family: monospace;background-color: #f0f8ff;border: 1px dotted black;border-radius: 0.25em;box-sizing: border-box;margin-bottom: 0.5em;}#sk-container-id-5 div.sk-estimator:hover {background-color: #d4ebff;}#sk-container-id-5 div.sk-parallel-item::after {content: \"\";width: 100%;border-bottom: 1px solid gray;flex-grow: 1;}#sk-container-id-5 div.sk-label:hover label.sk-toggleable__label {background-color: #d4ebff;}#sk-container-id-5 div.sk-serial::before {content: \"\";position: absolute;border-left: 1px solid gray;box-sizing: border-box;top: 0;bottom: 0;left: 50%;z-index: 0;}#sk-container-id-5 div.sk-serial {display: flex;flex-direction: column;align-items: center;background-color: white;padding-right: 0.2em;padding-left: 0.2em;position: relative;}#sk-container-id-5 div.sk-item {position: relative;z-index: 1;}#sk-container-id-5 div.sk-parallel {display: flex;align-items: stretch;justify-content: center;background-color: white;position: relative;}#sk-container-id-5 div.sk-item::before, #sk-container-id-5 div.sk-parallel-item::before {content: \"\";position: absolute;border-left: 1px solid gray;box-sizing: border-box;top: 0;bottom: 0;left: 50%;z-index: -1;}#sk-container-id-5 div.sk-parallel-item {display: flex;flex-direction: column;z-index: 1;position: relative;background-color: white;}#sk-container-id-5 div.sk-parallel-item:first-child::after {align-self: flex-end;width: 50%;}#sk-container-id-5 div.sk-parallel-item:last-child::after {align-self: flex-start;width: 50%;}#sk-container-id-5 div.sk-parallel-item:only-child::after {width: 0;}#sk-container-id-5 div.sk-dashed-wrapped {border: 1px dashed gray;margin: 0 0.4em 0.5em 0.4em;box-sizing: border-box;padding-bottom: 0.4em;background-color: white;}#sk-container-id-5 div.sk-label label {font-family: monospace;font-weight: bold;display: inline-block;line-height: 1.2em;}#sk-container-id-5 div.sk-label-container {text-align: center;}#sk-container-id-5 div.sk-container {/* jupyter's `normalize.less` sets `[hidden] { display: none; }` but bootstrap.min.css set `[hidden] { display: none !important; }` so we also need the `!important` here to be able to override the default hidden behavior on the sphinx rendered scikit-learn.org. See: https://github.com/scikit-learn/scikit-learn/issues/21755 */display: inline-block !important;position: relative;}#sk-container-id-5 div.sk-text-repr-fallback {display: none;}</style><div id=\"sk-container-id-5\" class=\"sk-top-container\"><div class=\"sk-text-repr-fallback\"><pre>DecisionTreeClassifier(ccp_alpha=0.001, criterion=&#x27;entropy&#x27;, max_depth=6,\n",
       "                       random_state=0)</pre><b>In a Jupyter environment, please rerun this cell to show the HTML representation or trust the notebook. <br />On GitHub, the HTML representation is unable to render, please try loading this page with nbviewer.org.</b></div><div class=\"sk-container\" hidden><div class=\"sk-item\"><div class=\"sk-estimator sk-toggleable\"><input class=\"sk-toggleable__control sk-hidden--visually\" id=\"sk-estimator-id-9\" type=\"checkbox\" checked><label for=\"sk-estimator-id-9\" class=\"sk-toggleable__label sk-toggleable__label-arrow\">DecisionTreeClassifier</label><div class=\"sk-toggleable__content\"><pre>DecisionTreeClassifier(ccp_alpha=0.001, criterion=&#x27;entropy&#x27;, max_depth=6,\n",
       "                       random_state=0)</pre></div></div></div></div></div>"
      ],
      "text/plain": [
       "DecisionTreeClassifier(ccp_alpha=0.001, criterion='entropy', max_depth=6,\n",
       "                       random_state=0)"
      ]
     },
     "execution_count": 47,
     "metadata": {},
     "output_type": "execute_result"
    }
   ],
   "source": [
    "# Elegimos el mejor modelo\n",
    "best_model_tree = grid_cv.best_estimator_\n",
    "best_model_tree"
   ]
  },
  {
   "cell_type": "code",
   "execution_count": 48,
   "id": "a4c600de",
   "metadata": {},
   "outputs": [
    {
     "name": "stdout",
     "output_type": "stream",
     "text": [
      "Accuracy train: 87.90%\n"
     ]
    }
   ],
   "source": [
    "train_predictions_tree = best_model_tree.predict(x_train)\n",
    "accuracy_train_tree = accuracy_score(y_train, train_predictions_tree)\n",
    "print(f\"Accuracy train: %.2f%%\" % (accuracy_train_tree * 100.0))"
   ]
  },
  {
   "cell_type": "code",
   "execution_count": 49,
   "id": "0a782506",
   "metadata": {},
   "outputs": [
    {
     "name": "stdout",
     "output_type": "stream",
     "text": [
      "Accuracy test: 87.88%\n"
     ]
    }
   ],
   "source": [
    "test_predictions_tree = best_model_tree.predict(x_test)\n",
    "accuracy_test_tree = accuracy_score(y_test, test_predictions_tree)\n",
    "print(\"Accuracy test: %.2f%%\" % (accuracy_test_tree * 100.0))"
   ]
  },
  {
   "cell_type": "markdown",
   "id": "fb618c1a",
   "metadata": {},
   "source": [
    "### Evaluación sobre el conjunto de entrenamiento"
   ]
  },
  {
   "cell_type": "code",
   "execution_count": 50,
   "id": "4a0054f2",
   "metadata": {},
   "outputs": [
    {
     "name": "stdout",
     "output_type": "stream",
     "text": [
      "                 precision    recall  f1-score   support\n",
      "\n",
      "Adultos Mayores       0.79      0.11      0.19     25178\n",
      "            BEG       0.94      0.69      0.80     66610\n",
      "            BOS       0.73      0.51      0.60      3953\n",
      "            BSC       1.00      0.25      0.40      8287\n",
      "   Discapacidad       0.53      0.29      0.37     12456\n",
      "          Resto       0.85      0.39      0.53      9007\n",
      "  Usuario comun       0.88      1.00      0.93    425622\n",
      "\n",
      "       accuracy                           0.88    551113\n",
      "      macro avg       0.81      0.46      0.55    551113\n",
      "   weighted avg       0.87      0.88      0.85    551113\n",
      "\n"
     ]
    }
   ],
   "source": [
    "print(classification_report(y_train, train_predictions_tree))"
   ]
  },
  {
   "cell_type": "markdown",
   "id": "5188e7b2",
   "metadata": {},
   "source": [
    "### Matriz de confusión sobre el conjunto de entrenamiento"
   ]
  },
  {
   "cell_type": "code",
   "execution_count": 51,
   "id": "53a035fa",
   "metadata": {},
   "outputs": [
    {
     "data": {
      "text/plain": [
       "array([[  2677,   1186,      0,      0,   1676,    229,  19410],\n",
       "       [   300,  46064,      3,      6,      0,      0,  20237],\n",
       "       [    16,    591,   2019,      0,      0,      0,   1327],\n",
       "       [    56,    947,      0,   2086,      0,      0,   5198],\n",
       "       [   285,     10,      0,      0,   3559,    404,   8198],\n",
       "       [     1,     57,      0,      0,   1523,   3477,   3949],\n",
       "       [    62,    280,    743,      0,      1,      0, 424536]])"
      ]
     },
     "execution_count": 51,
     "metadata": {},
     "output_type": "execute_result"
    }
   ],
   "source": [
    "cm=confusion_matrix(y_train, train_predictions_tree)\n",
    "cm"
   ]
  },
  {
   "cell_type": "code",
   "execution_count": 52,
   "id": "841335f2",
   "metadata": {},
   "outputs": [
    {
     "name": "stderr",
     "output_type": "stream",
     "text": [
      "/home/ivillagra/miniconda3/lib/python3.9/site-packages/sklearn/utils/deprecation.py:87: FutureWarning: Function plot_confusion_matrix is deprecated; Function `plot_confusion_matrix` is deprecated in 1.0 and will be removed in 1.2. Use one of the class methods: ConfusionMatrixDisplay.from_predictions or ConfusionMatrixDisplay.from_estimator.\n",
      "  warnings.warn(msg, category=FutureWarning)\n"
     ]
    },
    {
     "data": {
      "text/plain": [
       "<sklearn.metrics._plot.confusion_matrix.ConfusionMatrixDisplay at 0x7f68044369a0>"
      ]
     },
     "execution_count": 52,
     "metadata": {},
     "output_type": "execute_result"
    },
    {
     "data": {
      "image/png": "[encoded data removed]",
      "text/plain": [
       "<Figure size 864x720 with 2 Axes>"
      ]
     },
     "metadata": {
      "needs_background": "light"
     },
     "output_type": "display_data"
    }
   ],
   "source": [
    "fig, ax = plt.subplots(figsize=(12, 10))\n",
    "plot_confusion_matrix(best_model_tree, x_train, y_train, ax=ax) "
   ]
  },
  {
   "cell_type": "markdown",
   "id": "25f1058c",
   "metadata": {},
   "source": [
    "### Evaluación sobre el conjunto de prueba"
   ]
  },
  {
   "cell_type": "code",
   "execution_count": 53,
   "id": "aa8ac3b0",
   "metadata": {},
   "outputs": [
    {
     "name": "stdout",
     "output_type": "stream",
     "text": [
      "                 precision    recall  f1-score   support\n",
      "\n",
      "Adultos Mayores       0.76      0.10      0.18      6295\n",
      "            BEG       0.94      0.69      0.80     16653\n",
      "            BOS       0.74      0.50      0.60       988\n",
      "            BSC       1.00      0.26      0.41      2071\n",
      "   Discapacidad       0.52      0.28      0.36      3114\n",
      "          Resto       0.84      0.38      0.52      2252\n",
      "  Usuario comun       0.88      1.00      0.93    106406\n",
      "\n",
      "       accuracy                           0.88    137779\n",
      "      macro avg       0.81      0.46      0.54    137779\n",
      "   weighted avg       0.87      0.88      0.85    137779\n",
      "\n"
     ]
    }
   ],
   "source": [
    "print(classification_report(y_test, test_predictions_tree))"
   ]
  },
  {
   "cell_type": "markdown",
   "id": "83495bd0",
   "metadata": {},
   "source": [
    "### Matriz de confusión sobre el conjunto de prueba"
   ]
  },
  {
   "cell_type": "code",
   "execution_count": 54,
   "id": "dc2825cf",
   "metadata": {},
   "outputs": [
    {
     "data": {
      "text/plain": [
       "array([[   634,    305,      0,      0,    431,     59,   4866],\n",
       "       [    84,  11570,      0,      1,      0,      0,   4998],\n",
       "       [     8,    167,    497,      0,      0,      0,    316],\n",
       "       [    13,    237,      0,    532,      0,      0,   1289],\n",
       "       [    77,      2,      0,      0,    862,    106,   2067],\n",
       "       [     0,     13,      0,      0,    351,    856,   1032],\n",
       "       [    13,     78,    178,      0,      1,      3, 106133]])"
      ]
     },
     "execution_count": 54,
     "metadata": {},
     "output_type": "execute_result"
    }
   ],
   "source": [
    "cm=confusion_matrix(y_test, test_predictions_tree)\n",
    "cm"
   ]
  },
  {
   "cell_type": "code",
   "execution_count": 55,
   "id": "683aa5d7",
   "metadata": {},
   "outputs": [
    {
     "name": "stderr",
     "output_type": "stream",
     "text": [
      "/home/ivillagra/miniconda3/lib/python3.9/site-packages/sklearn/utils/deprecation.py:87: FutureWarning: Function plot_confusion_matrix is deprecated; Function `plot_confusion_matrix` is deprecated in 1.0 and will be removed in 1.2. Use one of the class methods: ConfusionMatrixDisplay.from_predictions or ConfusionMatrixDisplay.from_estimator.\n",
      "  warnings.warn(msg, category=FutureWarning)\n"
     ]
    },
    {
     "data": {
      "text/plain": [
       "<sklearn.metrics._plot.confusion_matrix.ConfusionMatrixDisplay at 0x7f6804352f10>"
      ]
     },
     "execution_count": 55,
     "metadata": {},
     "output_type": "execute_result"
    },
    {
     "data": {
      "image/png": "[encoded data removed]",
      "text/plain": [
       "<Figure size 864x720 with 2 Axes>"
      ]
     },
     "metadata": {
      "needs_background": "light"
     },
     "output_type": "display_data"
    }
   ],
   "source": [
    "fig, ax = plt.subplots(figsize=(12, 10))\n",
    "plot_confusion_matrix(best_model_tree, x_test, y_test, ax=ax) "
   ]
  },
  {
   "cell_type": "markdown",
   "id": "c5c3a7c2",
   "metadata": {},
   "source": [
    "## Random Forest Classifier"
   ]
  },
  {
   "cell_type": "code",
   "execution_count": 11,
   "id": "7ad19f60",
   "metadata": {},
   "outputs": [
    {
     "data": {
      "text/plain": [
       "{'bootstrap': True,\n",
       " 'ccp_alpha': 0.0,\n",
       " 'class_weight': None,\n",
       " 'criterion': 'gini',\n",
       " 'max_depth': None,\n",
       " 'max_features': 'sqrt',\n",
       " 'max_leaf_nodes': None,\n",
       " 'max_samples': None,\n",
       " 'min_impurity_decrease': 0.0,\n",
       " 'min_samples_leaf': 1,\n",
       " 'min_samples_split': 2,\n",
       " 'min_weight_fraction_leaf': 0.0,\n",
       " 'n_estimators': 100,\n",
       " 'n_jobs': None,\n",
       " 'oob_score': False,\n",
       " 'random_state': 0,\n",
       " 'verbose': 0,\n",
       " 'warm_start': False}"
      ]
     },
     "execution_count": 11,
     "metadata": {},
     "output_type": "execute_result"
    }
   ],
   "source": [
    "model_rf = RandomForestClassifier(random_state=0)\n",
    "model_rf.get_params()"
   ]
  },
  {
   "cell_type": "code",
   "execution_count": 11,
   "id": "d348c438",
   "metadata": {},
   "outputs": [
    {
     "name": "stdout",
     "output_type": "stream",
     "text": [
      "Combinaciones posibles: 18\n"
     ]
    }
   ],
   "source": [
    "param_grid_rf = {\n",
    "    'criterion': ['gini', 'entropy'],   \n",
    "    'max_depth': [2,4,6],   \n",
    "    'min_samples_leaf': [1,2,3],\n",
    "    'ccp_alpha': [0.001],\n",
    "}\n",
    "\n",
    "print(f'Combinaciones posibles: {len(ParameterGrid(param_grid_rf))}')"
   ]
  },
  {
   "cell_type": "code",
   "execution_count": 12,
   "id": "10f30e00",
   "metadata": {},
   "outputs": [
    {
     "data": {
      "text/html": [
       "<style>#sk-container-id-1 {color: black;background-color: white;}#sk-container-id-1 pre{padding: 0;}#sk-container-id-1 div.sk-toggleable {background-color: white;}#sk-container-id-1 label.sk-toggleable__label {cursor: pointer;display: block;width: 100%;margin-bottom: 0;padding: 0.3em;box-sizing: border-box;text-align: center;}#sk-container-id-1 label.sk-toggleable__label-arrow:before {content: \"▸\";float: left;margin-right: 0.25em;color: #696969;}#sk-container-id-1 label.sk-toggleable__label-arrow:hover:before {color: black;}#sk-container-id-1 div.sk-estimator:hover label.sk-toggleable__label-arrow:before {color: black;}#sk-container-id-1 div.sk-toggleable__content {max-height: 0;max-width: 0;overflow: hidden;text-align: left;background-color: #f0f8ff;}#sk-container-id-1 div.sk-toggleable__content pre {margin: 0.2em;color: black;border-radius: 0.25em;background-color: #f0f8ff;}#sk-container-id-1 input.sk-toggleable__control:checked~div.sk-toggleable__content {max-height: 200px;max-width: 100%;overflow: auto;}#sk-container-id-1 input.sk-toggleable__control:checked~label.sk-toggleable__label-arrow:before {content: \"▾\";}#sk-container-id-1 div.sk-estimator input.sk-toggleable__control:checked~label.sk-toggleable__label {background-color: #d4ebff;}#sk-container-id-1 div.sk-label input.sk-toggleable__control:checked~label.sk-toggleable__label {background-color: #d4ebff;}#sk-container-id-1 input.sk-hidden--visually {border: 0;clip: rect(1px 1px 1px 1px);clip: rect(1px, 1px, 1px, 1px);height: 1px;margin: -1px;overflow: hidden;padding: 0;position: absolute;width: 1px;}#sk-container-id-1 div.sk-estimator {font-family: monospace;background-color: #f0f8ff;border: 1px dotted black;border-radius: 0.25em;box-sizing: border-box;margin-bottom: 0.5em;}#sk-container-id-1 div.sk-estimator:hover {background-color: #d4ebff;}#sk-container-id-1 div.sk-parallel-item::after {content: \"\";width: 100%;border-bottom: 1px solid gray;flex-grow: 1;}#sk-container-id-1 div.sk-label:hover label.sk-toggleable__label {background-color: #d4ebff;}#sk-container-id-1 div.sk-serial::before {content: \"\";position: absolute;border-left: 1px solid gray;box-sizing: border-box;top: 0;bottom: 0;left: 50%;z-index: 0;}#sk-container-id-1 div.sk-serial {display: flex;flex-direction: column;align-items: center;background-color: white;padding-right: 0.2em;padding-left: 0.2em;position: relative;}#sk-container-id-1 div.sk-item {position: relative;z-index: 1;}#sk-container-id-1 div.sk-parallel {display: flex;align-items: stretch;justify-content: center;background-color: white;position: relative;}#sk-container-id-1 div.sk-item::before, #sk-container-id-1 div.sk-parallel-item::before {content: \"\";position: absolute;border-left: 1px solid gray;box-sizing: border-box;top: 0;bottom: 0;left: 50%;z-index: -1;}#sk-container-id-1 div.sk-parallel-item {display: flex;flex-direction: column;z-index: 1;position: relative;background-color: white;}#sk-container-id-1 div.sk-parallel-item:first-child::after {align-self: flex-end;width: 50%;}#sk-container-id-1 div.sk-parallel-item:last-child::after {align-self: flex-start;width: 50%;}#sk-container-id-1 div.sk-parallel-item:only-child::after {width: 0;}#sk-container-id-1 div.sk-dashed-wrapped {border: 1px dashed gray;margin: 0 0.4em 0.5em 0.4em;box-sizing: border-box;padding-bottom: 0.4em;background-color: white;}#sk-container-id-1 div.sk-label label {font-family: monospace;font-weight: bold;display: inline-block;line-height: 1.2em;}#sk-container-id-1 div.sk-label-container {text-align: center;}#sk-container-id-1 div.sk-container {/* jupyter's `normalize.less` sets `[hidden] { display: none; }` but bootstrap.min.css set `[hidden] { display: none !important; }` so we also need the `!important` here to be able to override the default hidden behavior on the sphinx rendered scikit-learn.org. See: https://github.com/scikit-learn/scikit-learn/issues/21755 */display: inline-block !important;position: relative;}#sk-container-id-1 div.sk-text-repr-fallback {display: none;}</style><div id=\"sk-container-id-1\" class=\"sk-top-container\"><div class=\"sk-text-repr-fallback\"><pre>GridSearchCV(cv=5, estimator=RandomForestClassifier(random_state=0),\n",
       "             param_grid={&#x27;ccp_alpha&#x27;: [0.001], &#x27;criterion&#x27;: [&#x27;gini&#x27;, &#x27;entropy&#x27;],\n",
       "                         &#x27;max_depth&#x27;: [2, 4, 6],\n",
       "                         &#x27;min_samples_leaf&#x27;: [1, 2, 3]},\n",
       "             scoring=&#x27;accuracy&#x27;)</pre><b>In a Jupyter environment, please rerun this cell to show the HTML representation or trust the notebook. <br />On GitHub, the HTML representation is unable to render, please try loading this page with nbviewer.org.</b></div><div class=\"sk-container\" hidden><div class=\"sk-item sk-dashed-wrapped\"><div class=\"sk-label-container\"><div class=\"sk-label sk-toggleable\"><input class=\"sk-toggleable__control sk-hidden--visually\" id=\"sk-estimator-id-1\" type=\"checkbox\" ><label for=\"sk-estimator-id-1\" class=\"sk-toggleable__label sk-toggleable__label-arrow\">GridSearchCV</label><div class=\"sk-toggleable__content\"><pre>GridSearchCV(cv=5, estimator=RandomForestClassifier(random_state=0),\n",
       "             param_grid={&#x27;ccp_alpha&#x27;: [0.001], &#x27;criterion&#x27;: [&#x27;gini&#x27;, &#x27;entropy&#x27;],\n",
       "                         &#x27;max_depth&#x27;: [2, 4, 6],\n",
       "                         &#x27;min_samples_leaf&#x27;: [1, 2, 3]},\n",
       "             scoring=&#x27;accuracy&#x27;)</pre></div></div></div><div class=\"sk-parallel\"><div class=\"sk-parallel-item\"><div class=\"sk-item\"><div class=\"sk-label-container\"><div class=\"sk-label sk-toggleable\"><input class=\"sk-toggleable__control sk-hidden--visually\" id=\"sk-estimator-id-2\" type=\"checkbox\" ><label for=\"sk-estimator-id-2\" class=\"sk-toggleable__label sk-toggleable__label-arrow\">estimator: RandomForestClassifier</label><div class=\"sk-toggleable__content\"><pre>RandomForestClassifier(random_state=0)</pre></div></div></div><div class=\"sk-serial\"><div class=\"sk-item\"><div class=\"sk-estimator sk-toggleable\"><input class=\"sk-toggleable__control sk-hidden--visually\" id=\"sk-estimator-id-3\" type=\"checkbox\" ><label for=\"sk-estimator-id-3\" class=\"sk-toggleable__label sk-toggleable__label-arrow\">RandomForestClassifier</label><div class=\"sk-toggleable__content\"><pre>RandomForestClassifier(random_state=0)</pre></div></div></div></div></div></div></div></div></div></div>"
      ],
      "text/plain": [
       "GridSearchCV(cv=5, estimator=RandomForestClassifier(random_state=0),\n",
       "             param_grid={'ccp_alpha': [0.001], 'criterion': ['gini', 'entropy'],\n",
       "                         'max_depth': [2, 4, 6],\n",
       "                         'min_samples_leaf': [1, 2, 3]},\n",
       "             scoring='accuracy')"
      ]
     },
     "execution_count": 12,
     "metadata": {},
     "output_type": "execute_result"
    }
   ],
   "source": [
    "model_rf =ensemble.RandomForestClassifier(random_state=0)\n",
    "grid_cv = GridSearchCV(model_rf, param_grid_rf, scoring='accuracy', cv=5)\n",
    "grid_cv.fit(x_train, y_train)"
   ]
  },
  {
   "cell_type": "code",
   "execution_count": 13,
   "id": "3305dd9f",
   "metadata": {},
   "outputs": [
    {
     "data": {
      "text/html": [
       "<style>#sk-container-id-2 {color: black;background-color: white;}#sk-container-id-2 pre{padding: 0;}#sk-container-id-2 div.sk-toggleable {background-color: white;}#sk-container-id-2 label.sk-toggleable__label {cursor: pointer;display: block;width: 100%;margin-bottom: 0;padding: 0.3em;box-sizing: border-box;text-align: center;}#sk-container-id-2 label.sk-toggleable__label-arrow:before {content: \"▸\";float: left;margin-right: 0.25em;color: #696969;}#sk-container-id-2 label.sk-toggleable__label-arrow:hover:before {color: black;}#sk-container-id-2 div.sk-estimator:hover label.sk-toggleable__label-arrow:before {color: black;}#sk-container-id-2 div.sk-toggleable__content {max-height: 0;max-width: 0;overflow: hidden;text-align: left;background-color: #f0f8ff;}#sk-container-id-2 div.sk-toggleable__content pre {margin: 0.2em;color: black;border-radius: 0.25em;background-color: #f0f8ff;}#sk-container-id-2 input.sk-toggleable__control:checked~div.sk-toggleable__content {max-height: 200px;max-width: 100%;overflow: auto;}#sk-container-id-2 input.sk-toggleable__control:checked~label.sk-toggleable__label-arrow:before {content: \"▾\";}#sk-container-id-2 div.sk-estimator input.sk-toggleable__control:checked~label.sk-toggleable__label {background-color: #d4ebff;}#sk-container-id-2 div.sk-label input.sk-toggleable__control:checked~label.sk-toggleable__label {background-color: #d4ebff;}#sk-container-id-2 input.sk-hidden--visually {border: 0;clip: rect(1px 1px 1px 1px);clip: rect(1px, 1px, 1px, 1px);height: 1px;margin: -1px;overflow: hidden;padding: 0;position: absolute;width: 1px;}#sk-container-id-2 div.sk-estimator {font-family: monospace;background-color: #f0f8ff;border: 1px dotted black;border-radius: 0.25em;box-sizing: border-box;margin-bottom: 0.5em;}#sk-container-id-2 div.sk-estimator:hover {background-color: #d4ebff;}#sk-container-id-2 div.sk-parallel-item::after {content: \"\";width: 100%;border-bottom: 1px solid gray;flex-grow: 1;}#sk-container-id-2 div.sk-label:hover label.sk-toggleable__label {background-color: #d4ebff;}#sk-container-id-2 div.sk-serial::before {content: \"\";position: absolute;border-left: 1px solid gray;box-sizing: border-box;top: 0;bottom: 0;left: 50%;z-index: 0;}#sk-container-id-2 div.sk-serial {display: flex;flex-direction: column;align-items: center;background-color: white;padding-right: 0.2em;padding-left: 0.2em;position: relative;}#sk-container-id-2 div.sk-item {position: relative;z-index: 1;}#sk-container-id-2 div.sk-parallel {display: flex;align-items: stretch;justify-content: center;background-color: white;position: relative;}#sk-container-id-2 div.sk-item::before, #sk-container-id-2 div.sk-parallel-item::before {content: \"\";position: absolute;border-left: 1px solid gray;box-sizing: border-box;top: 0;bottom: 0;left: 50%;z-index: -1;}#sk-container-id-2 div.sk-parallel-item {display: flex;flex-direction: column;z-index: 1;position: relative;background-color: white;}#sk-container-id-2 div.sk-parallel-item:first-child::after {align-self: flex-end;width: 50%;}#sk-container-id-2 div.sk-parallel-item:last-child::after {align-self: flex-start;width: 50%;}#sk-container-id-2 div.sk-parallel-item:only-child::after {width: 0;}#sk-container-id-2 div.sk-dashed-wrapped {border: 1px dashed gray;margin: 0 0.4em 0.5em 0.4em;box-sizing: border-box;padding-bottom: 0.4em;background-color: white;}#sk-container-id-2 div.sk-label label {font-family: monospace;font-weight: bold;display: inline-block;line-height: 1.2em;}#sk-container-id-2 div.sk-label-container {text-align: center;}#sk-container-id-2 div.sk-container {/* jupyter's `normalize.less` sets `[hidden] { display: none; }` but bootstrap.min.css set `[hidden] { display: none !important; }` so we also need the `!important` here to be able to override the default hidden behavior on the sphinx rendered scikit-learn.org. See: https://github.com/scikit-learn/scikit-learn/issues/21755 */display: inline-block !important;position: relative;}#sk-container-id-2 div.sk-text-repr-fallback {display: none;}</style><div id=\"sk-container-id-2\" class=\"sk-top-container\"><div class=\"sk-text-repr-fallback\"><pre>RandomForestClassifier(ccp_alpha=0.001, criterion=&#x27;entropy&#x27;, max_depth=6,\n",
       "                       min_samples_leaf=3, random_state=0)</pre><b>In a Jupyter environment, please rerun this cell to show the HTML representation or trust the notebook. <br />On GitHub, the HTML representation is unable to render, please try loading this page with nbviewer.org.</b></div><div class=\"sk-container\" hidden><div class=\"sk-item\"><div class=\"sk-estimator sk-toggleable\"><input class=\"sk-toggleable__control sk-hidden--visually\" id=\"sk-estimator-id-4\" type=\"checkbox\" checked><label for=\"sk-estimator-id-4\" class=\"sk-toggleable__label sk-toggleable__label-arrow\">RandomForestClassifier</label><div class=\"sk-toggleable__content\"><pre>RandomForestClassifier(ccp_alpha=0.001, criterion=&#x27;entropy&#x27;, max_depth=6,\n",
       "                       min_samples_leaf=3, random_state=0)</pre></div></div></div></div></div>"
      ],
      "text/plain": [
       "RandomForestClassifier(ccp_alpha=0.001, criterion='entropy', max_depth=6,\n",
       "                       min_samples_leaf=3, random_state=0)"
      ]
     },
     "execution_count": 13,
     "metadata": {},
     "output_type": "execute_result"
    }
   ],
   "source": [
    "# Elegimos el mejor modelo\n",
    "best_model_rf = grid_cv.best_estimator_\n",
    "best_model_rf"
   ]
  },
  {
   "cell_type": "code",
   "execution_count": 14,
   "id": "a55432f6",
   "metadata": {},
   "outputs": [
    {
     "name": "stdout",
     "output_type": "stream",
     "text": [
      "Accuracy train: 84.06%\n"
     ]
    }
   ],
   "source": [
    "train_predictions_rf = best_model_rf.predict(x_train)\n",
    "accuracy_train_rf = accuracy_score(y_train, train_predictions_rf)\n",
    "print(f\"Accuracy train: %.2f%%\" % (accuracy_train_rf * 100.0))"
   ]
  },
  {
   "cell_type": "code",
   "execution_count": 15,
   "id": "33b98df5",
   "metadata": {},
   "outputs": [
    {
     "name": "stdout",
     "output_type": "stream",
     "text": [
      "Accuracy test: 84.12%\n"
     ]
    }
   ],
   "source": [
    "test_predictions_rf = best_model_rf.predict(x_test)\n",
    "accuracy_test_rf = accuracy_score(y_test, test_predictions_rf)\n",
    "print(\"Accuracy test: %.2f%%\" % (accuracy_test_rf * 100.0))"
   ]
  },
  {
   "cell_type": "markdown",
   "id": "d35f6cde",
   "metadata": {},
   "source": [
    "### Evaluación sobre el conjunto de entrenamiento"
   ]
  },
  {
   "cell_type": "code",
   "execution_count": 16,
   "id": "2304bbbb",
   "metadata": {},
   "outputs": [
    {
     "name": "stderr",
     "output_type": "stream",
     "text": [
      "/home/ivillagra/miniconda3/lib/python3.9/site-packages/sklearn/metrics/_classification.py:1334: UndefinedMetricWarning: Precision and F-score are ill-defined and being set to 0.0 in labels with no predicted samples. Use `zero_division` parameter to control this behavior.\n",
      "  _warn_prf(average, modifier, msg_start, len(result))\n",
      "/home/ivillagra/miniconda3/lib/python3.9/site-packages/sklearn/metrics/_classification.py:1334: UndefinedMetricWarning: Precision and F-score are ill-defined and being set to 0.0 in labels with no predicted samples. Use `zero_division` parameter to control this behavior.\n",
      "  _warn_prf(average, modifier, msg_start, len(result))\n"
     ]
    },
    {
     "name": "stdout",
     "output_type": "stream",
     "text": [
      "                 precision    recall  f1-score   support\n",
      "\n",
      "Adultos Mayores       0.00      0.00      0.00     25178\n",
      "            BEG       0.86      0.58      0.69     66610\n",
      "            BOS       0.00      0.00      0.00      3953\n",
      "            BSC       0.00      0.00      0.00      8287\n",
      "   Discapacidad       0.00      0.00      0.00     12456\n",
      "          Resto       0.00      0.00      0.00      9007\n",
      "  Usuario comun       0.84      1.00      0.91    425622\n",
      "\n",
      "       accuracy                           0.84    551113\n",
      "      macro avg       0.24      0.22      0.23    551113\n",
      "   weighted avg       0.75      0.84      0.79    551113\n",
      "\n"
     ]
    },
    {
     "name": "stderr",
     "output_type": "stream",
     "text": [
      "/home/ivillagra/miniconda3/lib/python3.9/site-packages/sklearn/metrics/_classification.py:1334: UndefinedMetricWarning: Precision and F-score are ill-defined and being set to 0.0 in labels with no predicted samples. Use `zero_division` parameter to control this behavior.\n",
      "  _warn_prf(average, modifier, msg_start, len(result))\n"
     ]
    }
   ],
   "source": [
    "print(classification_report(y_train, train_predictions_rf))"
   ]
  },
  {
   "cell_type": "markdown",
   "id": "8d158739",
   "metadata": {},
   "source": [
    "### Matriz de confusión sobre el conjunto de entrenamiento"
   ]
  },
  {
   "cell_type": "code",
   "execution_count": 17,
   "id": "dec93c6f",
   "metadata": {},
   "outputs": [
    {
     "data": {
      "text/plain": [
       "array([[     0,   1497,      0,      0,      0,      0,  23681],\n",
       "       [     0,  38334,      0,      0,      0,      0,  28276],\n",
       "       [     0,   2278,      0,      0,      0,      0,   1675],\n",
       "       [     0,   1792,      0,      0,      0,      0,   6495],\n",
       "       [     0,      1,      0,      0,      0,      0,  12455],\n",
       "       [     0,      4,      0,      0,      0,      0,   9003],\n",
       "       [     0,    697,      0,      0,      0,      0, 424925]])"
      ]
     },
     "execution_count": 17,
     "metadata": {},
     "output_type": "execute_result"
    }
   ],
   "source": [
    "cm=confusion_matrix(y_train, train_predictions_rf)\n",
    "cm"
   ]
  },
  {
   "cell_type": "code",
   "execution_count": 18,
   "id": "aac04cce",
   "metadata": {},
   "outputs": [
    {
     "name": "stderr",
     "output_type": "stream",
     "text": [
      "/home/ivillagra/miniconda3/lib/python3.9/site-packages/sklearn/utils/deprecation.py:87: FutureWarning: Function plot_confusion_matrix is deprecated; Function `plot_confusion_matrix` is deprecated in 1.0 and will be removed in 1.2. Use one of the class methods: ConfusionMatrixDisplay.from_predictions or ConfusionMatrixDisplay.from_estimator.\n",
      "  warnings.warn(msg, category=FutureWarning)\n"
     ]
    },
    {
     "data": {
      "text/plain": [
       "<sklearn.metrics._plot.confusion_matrix.ConfusionMatrixDisplay at 0x7f5fc6833fa0>"
      ]
     },
     "execution_count": 18,
     "metadata": {},
     "output_type": "execute_result"
    },
    {
     "data": {
      "image/png": "[encoded data removed]",
      "text/plain": [
       "<Figure size 864x720 with 2 Axes>"
      ]
     },
     "metadata": {
      "needs_background": "light"
     },
     "output_type": "display_data"
    }
   ],
   "source": [
    "fig, ax = plt.subplots(figsize=(12, 10))\n",
    "plot_confusion_matrix(best_model_rf, x_train, y_train, ax=ax) "
   ]
  },
  {
   "cell_type": "markdown",
   "id": "1994ac98",
   "metadata": {},
   "source": [
    "### Evaluación sobre el conjunto de prueba"
   ]
  },
  {
   "cell_type": "code",
   "execution_count": 19,
   "id": "488b5832",
   "metadata": {},
   "outputs": [
    {
     "name": "stderr",
     "output_type": "stream",
     "text": [
      "/home/ivillagra/miniconda3/lib/python3.9/site-packages/sklearn/metrics/_classification.py:1334: UndefinedMetricWarning: Precision and F-score are ill-defined and being set to 0.0 in labels with no predicted samples. Use `zero_division` parameter to control this behavior.\n",
      "  _warn_prf(average, modifier, msg_start, len(result))\n",
      "/home/ivillagra/miniconda3/lib/python3.9/site-packages/sklearn/metrics/_classification.py:1334: UndefinedMetricWarning: Precision and F-score are ill-defined and being set to 0.0 in labels with no predicted samples. Use `zero_division` parameter to control this behavior.\n",
      "  _warn_prf(average, modifier, msg_start, len(result))\n"
     ]
    },
    {
     "name": "stdout",
     "output_type": "stream",
     "text": [
      "                 precision    recall  f1-score   support\n",
      "\n",
      "Adultos Mayores       0.00      0.00      0.00      6295\n",
      "            BEG       0.86      0.58      0.69     16653\n",
      "            BOS       0.00      0.00      0.00       988\n",
      "            BSC       0.00      0.00      0.00      2071\n",
      "   Discapacidad       0.00      0.00      0.00      3114\n",
      "          Resto       0.00      0.00      0.00      2252\n",
      "  Usuario comun       0.84      1.00      0.91    106406\n",
      "\n",
      "       accuracy                           0.84    137779\n",
      "      macro avg       0.24      0.23      0.23    137779\n",
      "   weighted avg       0.75      0.84      0.79    137779\n",
      "\n"
     ]
    },
    {
     "name": "stderr",
     "output_type": "stream",
     "text": [
      "/home/ivillagra/miniconda3/lib/python3.9/site-packages/sklearn/metrics/_classification.py:1334: UndefinedMetricWarning: Precision and F-score are ill-defined and being set to 0.0 in labels with no predicted samples. Use `zero_division` parameter to control this behavior.\n",
      "  _warn_prf(average, modifier, msg_start, len(result))\n"
     ]
    }
   ],
   "source": [
    "print(classification_report(y_test, test_predictions_rf))"
   ]
  },
  {
   "cell_type": "markdown",
   "id": "136a8dc9",
   "metadata": {},
   "source": [
    "### Matriz de confusión sobre el conjunto de prueba"
   ]
  },
  {
   "cell_type": "code",
   "execution_count": 20,
   "id": "81ae9df3",
   "metadata": {},
   "outputs": [
    {
     "data": {
      "text/plain": [
       "array([[     0,    383,      0,      0,      0,      0,   5912],\n",
       "       [     0,   9668,      0,      0,      0,      0,   6985],\n",
       "       [     0,    545,      0,      0,      0,      0,    443],\n",
       "       [     0,    425,      0,      0,      0,      0,   1646],\n",
       "       [     0,      0,      0,      0,      0,      0,   3114],\n",
       "       [     0,      2,      0,      0,      0,      0,   2250],\n",
       "       [     0,    181,      0,      0,      0,      0, 106225]])"
      ]
     },
     "execution_count": 20,
     "metadata": {},
     "output_type": "execute_result"
    }
   ],
   "source": [
    "cm=confusion_matrix(y_test, test_predictions_rf)\n",
    "cm"
   ]
  },
  {
   "cell_type": "code",
   "execution_count": 21,
   "id": "b1294af5",
   "metadata": {},
   "outputs": [
    {
     "name": "stderr",
     "output_type": "stream",
     "text": [
      "/home/ivillagra/miniconda3/lib/python3.9/site-packages/sklearn/utils/deprecation.py:87: FutureWarning: Function plot_confusion_matrix is deprecated; Function `plot_confusion_matrix` is deprecated in 1.0 and will be removed in 1.2. Use one of the class methods: ConfusionMatrixDisplay.from_predictions or ConfusionMatrixDisplay.from_estimator.\n",
      "  warnings.warn(msg, category=FutureWarning)\n"
     ]
    },
    {
     "data": {
      "text/plain": [
       "<sklearn.metrics._plot.confusion_matrix.ConfusionMatrixDisplay at 0x7f5fbd748220>"
      ]
     },
     "execution_count": 21,
     "metadata": {},
     "output_type": "execute_result"
    },
    {
     "data": {
      "image/png": "[encoded data removed]",
      "text/plain": [
       "<Figure size 864x720 with 2 Axes>"
      ]
     },
     "metadata": {
      "needs_background": "light"
     },
     "output_type": "display_data"
    }
   ],
   "source": [
    "fig, ax = plt.subplots(figsize=(12, 10))\n",
    "plot_confusion_matrix(best_model_rf, x_test, y_test, ax=ax) "
   ]
  },
  {
   "cell_type": "markdown",
   "id": "a279a8cd",
   "metadata": {},
   "source": [
    " - https://www.projectpro.io/article/multi-class-classification-python-example/547\n",
    " - https://gursev-pirge.medium.com/performance-comparison-of-multi-class-classification-algorithms-606e8ba4e0ee"
   ]
  },
  {
   "cell_type": "markdown",
   "id": "72068692",
   "metadata": {},
   "source": [
    "# Eliminando Usuarios Comunes"
   ]
  },
  {
   "cell_type": "code",
   "execution_count": 7,
   "id": "41dc5104",
   "metadata": {},
   "outputs": [
    {
     "data": {
      "text/html": [
       "<div>\n",
       "<style scoped>\n",
       "    .dataframe tbody tr th:only-of-type {\n",
       "        vertical-align: middle;\n",
       "    }\n",
       "\n",
       "    .dataframe tbody tr th {\n",
       "        vertical-align: top;\n",
       "    }\n",
       "\n",
       "    .dataframe thead th {\n",
       "        text-align: right;\n",
       "    }\n",
       "</style>\n",
       "<table border=\"1\" class=\"dataframe\">\n",
       "  <thead>\n",
       "    <tr style=\"text-align: right;\">\n",
       "      <th></th>\n",
       "      <th>TARJETA</th>\n",
       "      <th>CONTRATO</th>\n",
       "      <th>BOLETOS</th>\n",
       "      <th>CANT_LINEAS</th>\n",
       "      <th>LINEA_FRECUENTE</th>\n",
       "      <th>CANTIDAD_DIAS</th>\n",
       "      <th>PRIMER_DIA</th>\n",
       "      <th>ULTIMO_DIA</th>\n",
       "      <th>HORA_PRIMER_VIAJE</th>\n",
       "      <th>HORA_ULTIMO_VIAJE</th>\n",
       "      <th>HORA_PROMEDIO</th>\n",
       "    </tr>\n",
       "  </thead>\n",
       "  <tbody>\n",
       "    <tr>\n",
       "      <th>0</th>\n",
       "      <td>1000001</td>\n",
       "      <td>Usuario comun</td>\n",
       "      <td>20</td>\n",
       "      <td>7</td>\n",
       "      <td>['L25']</td>\n",
       "      <td>7</td>\n",
       "      <td>2/5/2022</td>\n",
       "      <td>30/05/2022</td>\n",
       "      <td>16</td>\n",
       "      <td>21</td>\n",
       "      <td>19</td>\n",
       "    </tr>\n",
       "    <tr>\n",
       "      <th>1</th>\n",
       "      <td>1000002</td>\n",
       "      <td>Usuario comun</td>\n",
       "      <td>4</td>\n",
       "      <td>2</td>\n",
       "      <td>['L35 T']</td>\n",
       "      <td>3</td>\n",
       "      <td>2/5/2022</td>\n",
       "      <td>5/5/2022</td>\n",
       "      <td>22</td>\n",
       "      <td>20</td>\n",
       "      <td>20</td>\n",
       "    </tr>\n",
       "    <tr>\n",
       "      <th>2</th>\n",
       "      <td>1000003</td>\n",
       "      <td>Usuario comun</td>\n",
       "      <td>22</td>\n",
       "      <td>4</td>\n",
       "      <td>['C']</td>\n",
       "      <td>10</td>\n",
       "      <td>2/5/2022</td>\n",
       "      <td>30/05/2022</td>\n",
       "      <td>15</td>\n",
       "      <td>9</td>\n",
       "      <td>11</td>\n",
       "    </tr>\n",
       "    <tr>\n",
       "      <th>3</th>\n",
       "      <td>1000004</td>\n",
       "      <td>Usuario comun</td>\n",
       "      <td>52</td>\n",
       "      <td>3</td>\n",
       "      <td>['C']</td>\n",
       "      <td>19</td>\n",
       "      <td>2/5/2022</td>\n",
       "      <td>31/05/2022</td>\n",
       "      <td>6</td>\n",
       "      <td>22</td>\n",
       "      <td>14</td>\n",
       "    </tr>\n",
       "    <tr>\n",
       "      <th>4</th>\n",
       "      <td>1000005</td>\n",
       "      <td>Usuario comun</td>\n",
       "      <td>20</td>\n",
       "      <td>4</td>\n",
       "      <td>['L74']</td>\n",
       "      <td>18</td>\n",
       "      <td>2/5/2022</td>\n",
       "      <td>31/05/2022</td>\n",
       "      <td>6</td>\n",
       "      <td>5</td>\n",
       "      <td>6</td>\n",
       "    </tr>\n",
       "  </tbody>\n",
       "</table>\n",
       "</div>"
      ],
      "text/plain": [
       "   TARJETA       CONTRATO  BOLETOS  CANT_LINEAS LINEA_FRECUENTE  \\\n",
       "0  1000001  Usuario comun       20            7         ['L25']   \n",
       "1  1000002  Usuario comun        4            2       ['L35 T']   \n",
       "2  1000003  Usuario comun       22            4           ['C']   \n",
       "3  1000004  Usuario comun       52            3           ['C']   \n",
       "4  1000005  Usuario comun       20            4         ['L74']   \n",
       "\n",
       "   CANTIDAD_DIAS PRIMER_DIA  ULTIMO_DIA  HORA_PRIMER_VIAJE  HORA_ULTIMO_VIAJE  \\\n",
       "0              7   2/5/2022  30/05/2022                 16                 21   \n",
       "1              3   2/5/2022    5/5/2022                 22                 20   \n",
       "2             10   2/5/2022  30/05/2022                 15                  9   \n",
       "3             19   2/5/2022  31/05/2022                  6                 22   \n",
       "4             18   2/5/2022  31/05/2022                  6                  5   \n",
       "\n",
       "   HORA_PROMEDIO  \n",
       "0             19  \n",
       "1             20  \n",
       "2             11  \n",
       "3             14  \n",
       "4              6  "
      ]
     },
     "execution_count": 7,
     "metadata": {},
     "output_type": "execute_result"
    }
   ],
   "source": [
    "df.head()"
   ]
  },
  {
   "cell_type": "code",
   "execution_count": 8,
   "id": "e55fe542",
   "metadata": {},
   "outputs": [
    {
     "data": {
      "text/plain": [
       "Usuario comun      532028\n",
       "BEG                 83263\n",
       "Adultos Mayores     31473\n",
       "Discapacidad        15570\n",
       "Resto               11259\n",
       "BSC                 10358\n",
       "BOS                  4941\n",
       "Name: CONTRATO, dtype: int64"
      ]
     },
     "execution_count": 8,
     "metadata": {},
     "output_type": "execute_result"
    }
   ],
   "source": [
    "df.CONTRATO.value_counts()"
   ]
  },
  {
   "cell_type": "code",
   "execution_count": 9,
   "id": "41245159",
   "metadata": {},
   "outputs": [],
   "source": [
    "df_2 = df[df['CONTRATO']!='Usuario comun']"
   ]
  },
  {
   "cell_type": "code",
   "execution_count": 10,
   "id": "24059db4",
   "metadata": {},
   "outputs": [
    {
     "data": {
      "text/plain": [
       "(156864, 11)"
      ]
     },
     "execution_count": 10,
     "metadata": {},
     "output_type": "execute_result"
    }
   ],
   "source": [
    "df_2.shape"
   ]
  },
  {
   "cell_type": "code",
   "execution_count": 11,
   "id": "de70358d",
   "metadata": {},
   "outputs": [
    {
     "data": {
      "text/plain": [
       "BEG                83263\n",
       "Adultos Mayores    31473\n",
       "Discapacidad       15570\n",
       "Resto              11259\n",
       "BSC                10358\n",
       "BOS                 4941\n",
       "Name: CONTRATO, dtype: int64"
      ]
     },
     "execution_count": 11,
     "metadata": {},
     "output_type": "execute_result"
    }
   ],
   "source": [
    "df_2.CONTRATO.value_counts()"
   ]
  },
  {
   "cell_type": "code",
   "execution_count": 12,
   "id": "467500d2",
   "metadata": {},
   "outputs": [],
   "source": [
    "X_2 = df_2.drop(['CONTRATO'],axis=1)"
   ]
  },
  {
   "cell_type": "code",
   "execution_count": 13,
   "id": "564c9a63",
   "metadata": {},
   "outputs": [],
   "source": [
    "y_2 = df_2.CONTRATO"
   ]
  },
  {
   "cell_type": "code",
   "execution_count": 14,
   "id": "84e8dddd",
   "metadata": {},
   "outputs": [
    {
     "data": {
      "text/html": [
       "<div>\n",
       "<style scoped>\n",
       "    .dataframe tbody tr th:only-of-type {\n",
       "        vertical-align: middle;\n",
       "    }\n",
       "\n",
       "    .dataframe tbody tr th {\n",
       "        vertical-align: top;\n",
       "    }\n",
       "\n",
       "    .dataframe thead th {\n",
       "        text-align: right;\n",
       "    }\n",
       "</style>\n",
       "<table border=\"1\" class=\"dataframe\">\n",
       "  <thead>\n",
       "    <tr style=\"text-align: right;\">\n",
       "      <th></th>\n",
       "      <th>TARJETA</th>\n",
       "      <th>BOLETOS</th>\n",
       "      <th>CANT_LINEAS</th>\n",
       "      <th>LINEA_FRECUENTE</th>\n",
       "      <th>CANTIDAD_DIAS</th>\n",
       "      <th>PRIMER_DIA</th>\n",
       "      <th>ULTIMO_DIA</th>\n",
       "      <th>HORA_PRIMER_VIAJE</th>\n",
       "      <th>HORA_ULTIMO_VIAJE</th>\n",
       "      <th>HORA_PROMEDIO</th>\n",
       "    </tr>\n",
       "  </thead>\n",
       "  <tbody>\n",
       "    <tr>\n",
       "      <th>0</th>\n",
       "      <td>-1.151156</td>\n",
       "      <td>-0.157895</td>\n",
       "      <td>0.000000</td>\n",
       "      <td>-1.000000</td>\n",
       "      <td>-0.181818</td>\n",
       "      <td>0.000000</td>\n",
       "      <td>-1.6</td>\n",
       "      <td>0.000000</td>\n",
       "      <td>0.000000</td>\n",
       "      <td>-0.333333</td>\n",
       "    </tr>\n",
       "    <tr>\n",
       "      <th>1</th>\n",
       "      <td>-1.151152</td>\n",
       "      <td>-0.421053</td>\n",
       "      <td>-0.333333</td>\n",
       "      <td>0.516129</td>\n",
       "      <td>-0.454545</td>\n",
       "      <td>0.000000</td>\n",
       "      <td>-1.0</td>\n",
       "      <td>1.000000</td>\n",
       "      <td>-0.333333</td>\n",
       "      <td>1.000000</td>\n",
       "    </tr>\n",
       "    <tr>\n",
       "      <th>2</th>\n",
       "      <td>-1.151148</td>\n",
       "      <td>-0.315789</td>\n",
       "      <td>0.000000</td>\n",
       "      <td>-0.903226</td>\n",
       "      <td>-0.363636</td>\n",
       "      <td>0.000000</td>\n",
       "      <td>-1.8</td>\n",
       "      <td>-0.333333</td>\n",
       "      <td>0.000000</td>\n",
       "      <td>-0.333333</td>\n",
       "    </tr>\n",
       "    <tr>\n",
       "      <th>3</th>\n",
       "      <td>-1.151144</td>\n",
       "      <td>0.263158</td>\n",
       "      <td>0.333333</td>\n",
       "      <td>-0.258065</td>\n",
       "      <td>0.181818</td>\n",
       "      <td>0.000000</td>\n",
       "      <td>-1.0</td>\n",
       "      <td>-0.833333</td>\n",
       "      <td>0.500000</td>\n",
       "      <td>-0.333333</td>\n",
       "    </tr>\n",
       "    <tr>\n",
       "      <th>4</th>\n",
       "      <td>-1.151140</td>\n",
       "      <td>-0.578947</td>\n",
       "      <td>-0.666667</td>\n",
       "      <td>0.935484</td>\n",
       "      <td>-0.545455</td>\n",
       "      <td>0.000000</td>\n",
       "      <td>-1.2</td>\n",
       "      <td>-1.000000</td>\n",
       "      <td>-0.500000</td>\n",
       "      <td>-1.666667</td>\n",
       "    </tr>\n",
       "    <tr>\n",
       "      <th>...</th>\n",
       "      <td>...</td>\n",
       "      <td>...</td>\n",
       "      <td>...</td>\n",
       "      <td>...</td>\n",
       "      <td>...</td>\n",
       "      <td>...</td>\n",
       "      <td>...</td>\n",
       "      <td>...</td>\n",
       "      <td>...</td>\n",
       "      <td>...</td>\n",
       "    </tr>\n",
       "    <tr>\n",
       "      <th>156859</th>\n",
       "      <td>1.540518</td>\n",
       "      <td>-0.631579</td>\n",
       "      <td>-0.333333</td>\n",
       "      <td>0.870968</td>\n",
       "      <td>-0.636364</td>\n",
       "      <td>1.222222</td>\n",
       "      <td>0.0</td>\n",
       "      <td>-0.666667</td>\n",
       "      <td>-0.333333</td>\n",
       "      <td>-1.000000</td>\n",
       "    </tr>\n",
       "    <tr>\n",
       "      <th>156860</th>\n",
       "      <td>1.540522</td>\n",
       "      <td>-0.631579</td>\n",
       "      <td>-0.333333</td>\n",
       "      <td>-0.419355</td>\n",
       "      <td>-0.636364</td>\n",
       "      <td>1.222222</td>\n",
       "      <td>0.0</td>\n",
       "      <td>0.833333</td>\n",
       "      <td>0.166667</td>\n",
       "      <td>1.000000</td>\n",
       "    </tr>\n",
       "    <tr>\n",
       "      <th>156861</th>\n",
       "      <td>1.540526</td>\n",
       "      <td>-0.684211</td>\n",
       "      <td>-0.666667</td>\n",
       "      <td>-0.161290</td>\n",
       "      <td>-0.636364</td>\n",
       "      <td>1.222222</td>\n",
       "      <td>0.0</td>\n",
       "      <td>0.166667</td>\n",
       "      <td>0.166667</td>\n",
       "      <td>0.333333</td>\n",
       "    </tr>\n",
       "    <tr>\n",
       "      <th>156862</th>\n",
       "      <td>1.540530</td>\n",
       "      <td>-0.473684</td>\n",
       "      <td>0.333333</td>\n",
       "      <td>-0.774194</td>\n",
       "      <td>-0.636364</td>\n",
       "      <td>1.222222</td>\n",
       "      <td>0.0</td>\n",
       "      <td>0.000000</td>\n",
       "      <td>0.166667</td>\n",
       "      <td>0.000000</td>\n",
       "    </tr>\n",
       "    <tr>\n",
       "      <th>156863</th>\n",
       "      <td>1.540534</td>\n",
       "      <td>-0.631579</td>\n",
       "      <td>-0.333333</td>\n",
       "      <td>-0.516129</td>\n",
       "      <td>-0.636364</td>\n",
       "      <td>1.222222</td>\n",
       "      <td>0.0</td>\n",
       "      <td>-0.166667</td>\n",
       "      <td>0.333333</td>\n",
       "      <td>0.333333</td>\n",
       "    </tr>\n",
       "  </tbody>\n",
       "</table>\n",
       "<p>156864 rows × 10 columns</p>\n",
       "</div>"
      ],
      "text/plain": [
       "         TARJETA   BOLETOS  CANT_LINEAS  LINEA_FRECUENTE  CANTIDAD_DIAS  \\\n",
       "0      -1.151156 -0.157895     0.000000        -1.000000      -0.181818   \n",
       "1      -1.151152 -0.421053    -0.333333         0.516129      -0.454545   \n",
       "2      -1.151148 -0.315789     0.000000        -0.903226      -0.363636   \n",
       "3      -1.151144  0.263158     0.333333        -0.258065       0.181818   \n",
       "4      -1.151140 -0.578947    -0.666667         0.935484      -0.545455   \n",
       "...          ...       ...          ...              ...            ...   \n",
       "156859  1.540518 -0.631579    -0.333333         0.870968      -0.636364   \n",
       "156860  1.540522 -0.631579    -0.333333        -0.419355      -0.636364   \n",
       "156861  1.540526 -0.684211    -0.666667        -0.161290      -0.636364   \n",
       "156862  1.540530 -0.473684     0.333333        -0.774194      -0.636364   \n",
       "156863  1.540534 -0.631579    -0.333333        -0.516129      -0.636364   \n",
       "\n",
       "        PRIMER_DIA  ULTIMO_DIA  HORA_PRIMER_VIAJE  HORA_ULTIMO_VIAJE  \\\n",
       "0         0.000000        -1.6           0.000000           0.000000   \n",
       "1         0.000000        -1.0           1.000000          -0.333333   \n",
       "2         0.000000        -1.8          -0.333333           0.000000   \n",
       "3         0.000000        -1.0          -0.833333           0.500000   \n",
       "4         0.000000        -1.2          -1.000000          -0.500000   \n",
       "...            ...         ...                ...                ...   \n",
       "156859    1.222222         0.0          -0.666667          -0.333333   \n",
       "156860    1.222222         0.0           0.833333           0.166667   \n",
       "156861    1.222222         0.0           0.166667           0.166667   \n",
       "156862    1.222222         0.0           0.000000           0.166667   \n",
       "156863    1.222222         0.0          -0.166667           0.333333   \n",
       "\n",
       "        HORA_PROMEDIO  \n",
       "0           -0.333333  \n",
       "1            1.000000  \n",
       "2           -0.333333  \n",
       "3           -0.333333  \n",
       "4           -1.666667  \n",
       "...               ...  \n",
       "156859      -1.000000  \n",
       "156860       1.000000  \n",
       "156861       0.333333  \n",
       "156862       0.000000  \n",
       "156863       0.333333  \n",
       "\n",
       "[156864 rows x 10 columns]"
      ]
     },
     "execution_count": 14,
     "metadata": {},
     "output_type": "execute_result"
    }
   ],
   "source": [
    "for col in categorical_cols:\n",
    "    X_2[col] = X_2[col].astype(str)\n",
    "    X_2[col] = LabelEncoder().fit_transform(X_2[col])\n",
    "\n",
    "x2_names = X_2.columns\n",
    "X_2 = RobustScaler().fit_transform(X_2)\n",
    "X_2 = pd.DataFrame(X_2, columns=x2_names)\n",
    "X_2"
   ]
  },
  {
   "cell_type": "code",
   "execution_count": 15,
   "id": "a5eea218",
   "metadata": {},
   "outputs": [],
   "source": [
    "x_train_2, x_test_2, y_train_2, y_test_2 = train_test_split(X_2, y_2, train_size=0.8, stratify = y_2)"
   ]
  },
  {
   "cell_type": "markdown",
   "id": "46b31411",
   "metadata": {},
   "source": [
    "## Decision Tree Classifier"
   ]
  },
  {
   "cell_type": "code",
   "execution_count": 22,
   "id": "5963cdc6",
   "metadata": {},
   "outputs": [
    {
     "data": {
      "text/plain": [
       "{'ccp_alpha': 0.0,\n",
       " 'class_weight': None,\n",
       " 'criterion': 'gini',\n",
       " 'max_depth': None,\n",
       " 'max_features': None,\n",
       " 'max_leaf_nodes': None,\n",
       " 'min_impurity_decrease': 0.0,\n",
       " 'min_samples_leaf': 1,\n",
       " 'min_samples_split': 2,\n",
       " 'min_weight_fraction_leaf': 0.0,\n",
       " 'random_state': 0,\n",
       " 'splitter': 'best'}"
      ]
     },
     "execution_count": 22,
     "metadata": {},
     "output_type": "execute_result"
    }
   ],
   "source": [
    "DecisionTreeClassifier(random_state=0).get_params()"
   ]
  },
  {
   "cell_type": "code",
   "execution_count": 28,
   "id": "0b26a1a3",
   "metadata": {},
   "outputs": [
    {
     "name": "stdout",
     "output_type": "stream",
     "text": [
      "Combinaciones posibles: 160\n"
     ]
    }
   ],
   "source": [
    "param_grid_tree_2 = {\n",
    "    'criterion': ['gini', 'entropy'],   #criterio de partición\n",
    "    'max_depth': [2,4,6,8, 10],   #profundidad máxima del arbol\n",
    "    'min_samples_leaf': [1,2,3,4],    #cantidad mínima de samples por hoja\n",
    "    'ccp_alpha': [0.001, 0.01, 1, 10],\n",
    "    'splitter':[\"best\"],\n",
    "}\n",
    "\n",
    "print(f'Combinaciones posibles: {len(ParameterGrid(param_grid_tree_2))}')"
   ]
  },
  {
   "cell_type": "code",
   "execution_count": 29,
   "id": "bf7fe30b",
   "metadata": {},
   "outputs": [
    {
     "data": {
      "text/html": [
       "<style>#sk-container-id-5 {color: black;background-color: white;}#sk-container-id-5 pre{padding: 0;}#sk-container-id-5 div.sk-toggleable {background-color: white;}#sk-container-id-5 label.sk-toggleable__label {cursor: pointer;display: block;width: 100%;margin-bottom: 0;padding: 0.3em;box-sizing: border-box;text-align: center;}#sk-container-id-5 label.sk-toggleable__label-arrow:before {content: \"▸\";float: left;margin-right: 0.25em;color: #696969;}#sk-container-id-5 label.sk-toggleable__label-arrow:hover:before {color: black;}#sk-container-id-5 div.sk-estimator:hover label.sk-toggleable__label-arrow:before {color: black;}#sk-container-id-5 div.sk-toggleable__content {max-height: 0;max-width: 0;overflow: hidden;text-align: left;background-color: #f0f8ff;}#sk-container-id-5 div.sk-toggleable__content pre {margin: 0.2em;color: black;border-radius: 0.25em;background-color: #f0f8ff;}#sk-container-id-5 input.sk-toggleable__control:checked~div.sk-toggleable__content {max-height: 200px;max-width: 100%;overflow: auto;}#sk-container-id-5 input.sk-toggleable__control:checked~label.sk-toggleable__label-arrow:before {content: \"▾\";}#sk-container-id-5 div.sk-estimator input.sk-toggleable__control:checked~label.sk-toggleable__label {background-color: #d4ebff;}#sk-container-id-5 div.sk-label input.sk-toggleable__control:checked~label.sk-toggleable__label {background-color: #d4ebff;}#sk-container-id-5 input.sk-hidden--visually {border: 0;clip: rect(1px 1px 1px 1px);clip: rect(1px, 1px, 1px, 1px);height: 1px;margin: -1px;overflow: hidden;padding: 0;position: absolute;width: 1px;}#sk-container-id-5 div.sk-estimator {font-family: monospace;background-color: #f0f8ff;border: 1px dotted black;border-radius: 0.25em;box-sizing: border-box;margin-bottom: 0.5em;}#sk-container-id-5 div.sk-estimator:hover {background-color: #d4ebff;}#sk-container-id-5 div.sk-parallel-item::after {content: \"\";width: 100%;border-bottom: 1px solid gray;flex-grow: 1;}#sk-container-id-5 div.sk-label:hover label.sk-toggleable__label {background-color: #d4ebff;}#sk-container-id-5 div.sk-serial::before {content: \"\";position: absolute;border-left: 1px solid gray;box-sizing: border-box;top: 0;bottom: 0;left: 50%;z-index: 0;}#sk-container-id-5 div.sk-serial {display: flex;flex-direction: column;align-items: center;background-color: white;padding-right: 0.2em;padding-left: 0.2em;position: relative;}#sk-container-id-5 div.sk-item {position: relative;z-index: 1;}#sk-container-id-5 div.sk-parallel {display: flex;align-items: stretch;justify-content: center;background-color: white;position: relative;}#sk-container-id-5 div.sk-item::before, #sk-container-id-5 div.sk-parallel-item::before {content: \"\";position: absolute;border-left: 1px solid gray;box-sizing: border-box;top: 0;bottom: 0;left: 50%;z-index: -1;}#sk-container-id-5 div.sk-parallel-item {display: flex;flex-direction: column;z-index: 1;position: relative;background-color: white;}#sk-container-id-5 div.sk-parallel-item:first-child::after {align-self: flex-end;width: 50%;}#sk-container-id-5 div.sk-parallel-item:last-child::after {align-self: flex-start;width: 50%;}#sk-container-id-5 div.sk-parallel-item:only-child::after {width: 0;}#sk-container-id-5 div.sk-dashed-wrapped {border: 1px dashed gray;margin: 0 0.4em 0.5em 0.4em;box-sizing: border-box;padding-bottom: 0.4em;background-color: white;}#sk-container-id-5 div.sk-label label {font-family: monospace;font-weight: bold;display: inline-block;line-height: 1.2em;}#sk-container-id-5 div.sk-label-container {text-align: center;}#sk-container-id-5 div.sk-container {/* jupyter's `normalize.less` sets `[hidden] { display: none; }` but bootstrap.min.css set `[hidden] { display: none !important; }` so we also need the `!important` here to be able to override the default hidden behavior on the sphinx rendered scikit-learn.org. See: https://github.com/scikit-learn/scikit-learn/issues/21755 */display: inline-block !important;position: relative;}#sk-container-id-5 div.sk-text-repr-fallback {display: none;}</style><div id=\"sk-container-id-5\" class=\"sk-top-container\"><div class=\"sk-text-repr-fallback\"><pre>GridSearchCV(cv=5, estimator=DecisionTreeClassifier(random_state=0),\n",
       "             param_grid={&#x27;ccp_alpha&#x27;: [0.001, 0.01, 1, 10],\n",
       "                         &#x27;criterion&#x27;: [&#x27;gini&#x27;, &#x27;entropy&#x27;],\n",
       "                         &#x27;max_depth&#x27;: [2, 4, 6, 8, 10],\n",
       "                         &#x27;min_samples_leaf&#x27;: [1, 2, 3, 4],\n",
       "                         &#x27;splitter&#x27;: [&#x27;best&#x27;]},\n",
       "             scoring=&#x27;accuracy&#x27;)</pre><b>In a Jupyter environment, please rerun this cell to show the HTML representation or trust the notebook. <br />On GitHub, the HTML representation is unable to render, please try loading this page with nbviewer.org.</b></div><div class=\"sk-container\" hidden><div class=\"sk-item sk-dashed-wrapped\"><div class=\"sk-label-container\"><div class=\"sk-label sk-toggleable\"><input class=\"sk-toggleable__control sk-hidden--visually\" id=\"sk-estimator-id-9\" type=\"checkbox\" ><label for=\"sk-estimator-id-9\" class=\"sk-toggleable__label sk-toggleable__label-arrow\">GridSearchCV</label><div class=\"sk-toggleable__content\"><pre>GridSearchCV(cv=5, estimator=DecisionTreeClassifier(random_state=0),\n",
       "             param_grid={&#x27;ccp_alpha&#x27;: [0.001, 0.01, 1, 10],\n",
       "                         &#x27;criterion&#x27;: [&#x27;gini&#x27;, &#x27;entropy&#x27;],\n",
       "                         &#x27;max_depth&#x27;: [2, 4, 6, 8, 10],\n",
       "                         &#x27;min_samples_leaf&#x27;: [1, 2, 3, 4],\n",
       "                         &#x27;splitter&#x27;: [&#x27;best&#x27;]},\n",
       "             scoring=&#x27;accuracy&#x27;)</pre></div></div></div><div class=\"sk-parallel\"><div class=\"sk-parallel-item\"><div class=\"sk-item\"><div class=\"sk-label-container\"><div class=\"sk-label sk-toggleable\"><input class=\"sk-toggleable__control sk-hidden--visually\" id=\"sk-estimator-id-10\" type=\"checkbox\" ><label for=\"sk-estimator-id-10\" class=\"sk-toggleable__label sk-toggleable__label-arrow\">estimator: DecisionTreeClassifier</label><div class=\"sk-toggleable__content\"><pre>DecisionTreeClassifier(random_state=0)</pre></div></div></div><div class=\"sk-serial\"><div class=\"sk-item\"><div class=\"sk-estimator sk-toggleable\"><input class=\"sk-toggleable__control sk-hidden--visually\" id=\"sk-estimator-id-11\" type=\"checkbox\" ><label for=\"sk-estimator-id-11\" class=\"sk-toggleable__label sk-toggleable__label-arrow\">DecisionTreeClassifier</label><div class=\"sk-toggleable__content\"><pre>DecisionTreeClassifier(random_state=0)</pre></div></div></div></div></div></div></div></div></div></div>"
      ],
      "text/plain": [
       "GridSearchCV(cv=5, estimator=DecisionTreeClassifier(random_state=0),\n",
       "             param_grid={'ccp_alpha': [0.001, 0.01, 1, 10],\n",
       "                         'criterion': ['gini', 'entropy'],\n",
       "                         'max_depth': [2, 4, 6, 8, 10],\n",
       "                         'min_samples_leaf': [1, 2, 3, 4],\n",
       "                         'splitter': ['best']},\n",
       "             scoring='accuracy')"
      ]
     },
     "execution_count": 29,
     "metadata": {},
     "output_type": "execute_result"
    }
   ],
   "source": [
    "model_tree_2 = DecisionTreeClassifier(random_state=0)\n",
    "grid_cv = GridSearchCV(model_tree_2, param_grid_tree_2, scoring='accuracy', cv=5)\n",
    "grid_cv.fit(x_train_2, y_train_2)"
   ]
  },
  {
   "cell_type": "code",
   "execution_count": 30,
   "id": "67f505ce",
   "metadata": {},
   "outputs": [
    {
     "data": {
      "text/html": [
       "<style>#sk-container-id-6 {color: black;background-color: white;}#sk-container-id-6 pre{padding: 0;}#sk-container-id-6 div.sk-toggleable {background-color: white;}#sk-container-id-6 label.sk-toggleable__label {cursor: pointer;display: block;width: 100%;margin-bottom: 0;padding: 0.3em;box-sizing: border-box;text-align: center;}#sk-container-id-6 label.sk-toggleable__label-arrow:before {content: \"▸\";float: left;margin-right: 0.25em;color: #696969;}#sk-container-id-6 label.sk-toggleable__label-arrow:hover:before {color: black;}#sk-container-id-6 div.sk-estimator:hover label.sk-toggleable__label-arrow:before {color: black;}#sk-container-id-6 div.sk-toggleable__content {max-height: 0;max-width: 0;overflow: hidden;text-align: left;background-color: #f0f8ff;}#sk-container-id-6 div.sk-toggleable__content pre {margin: 0.2em;color: black;border-radius: 0.25em;background-color: #f0f8ff;}#sk-container-id-6 input.sk-toggleable__control:checked~div.sk-toggleable__content {max-height: 200px;max-width: 100%;overflow: auto;}#sk-container-id-6 input.sk-toggleable__control:checked~label.sk-toggleable__label-arrow:before {content: \"▾\";}#sk-container-id-6 div.sk-estimator input.sk-toggleable__control:checked~label.sk-toggleable__label {background-color: #d4ebff;}#sk-container-id-6 div.sk-label input.sk-toggleable__control:checked~label.sk-toggleable__label {background-color: #d4ebff;}#sk-container-id-6 input.sk-hidden--visually {border: 0;clip: rect(1px 1px 1px 1px);clip: rect(1px, 1px, 1px, 1px);height: 1px;margin: -1px;overflow: hidden;padding: 0;position: absolute;width: 1px;}#sk-container-id-6 div.sk-estimator {font-family: monospace;background-color: #f0f8ff;border: 1px dotted black;border-radius: 0.25em;box-sizing: border-box;margin-bottom: 0.5em;}#sk-container-id-6 div.sk-estimator:hover {background-color: #d4ebff;}#sk-container-id-6 div.sk-parallel-item::after {content: \"\";width: 100%;border-bottom: 1px solid gray;flex-grow: 1;}#sk-container-id-6 div.sk-label:hover label.sk-toggleable__label {background-color: #d4ebff;}#sk-container-id-6 div.sk-serial::before {content: \"\";position: absolute;border-left: 1px solid gray;box-sizing: border-box;top: 0;bottom: 0;left: 50%;z-index: 0;}#sk-container-id-6 div.sk-serial {display: flex;flex-direction: column;align-items: center;background-color: white;padding-right: 0.2em;padding-left: 0.2em;position: relative;}#sk-container-id-6 div.sk-item {position: relative;z-index: 1;}#sk-container-id-6 div.sk-parallel {display: flex;align-items: stretch;justify-content: center;background-color: white;position: relative;}#sk-container-id-6 div.sk-item::before, #sk-container-id-6 div.sk-parallel-item::before {content: \"\";position: absolute;border-left: 1px solid gray;box-sizing: border-box;top: 0;bottom: 0;left: 50%;z-index: -1;}#sk-container-id-6 div.sk-parallel-item {display: flex;flex-direction: column;z-index: 1;position: relative;background-color: white;}#sk-container-id-6 div.sk-parallel-item:first-child::after {align-self: flex-end;width: 50%;}#sk-container-id-6 div.sk-parallel-item:last-child::after {align-self: flex-start;width: 50%;}#sk-container-id-6 div.sk-parallel-item:only-child::after {width: 0;}#sk-container-id-6 div.sk-dashed-wrapped {border: 1px dashed gray;margin: 0 0.4em 0.5em 0.4em;box-sizing: border-box;padding-bottom: 0.4em;background-color: white;}#sk-container-id-6 div.sk-label label {font-family: monospace;font-weight: bold;display: inline-block;line-height: 1.2em;}#sk-container-id-6 div.sk-label-container {text-align: center;}#sk-container-id-6 div.sk-container {/* jupyter's `normalize.less` sets `[hidden] { display: none; }` but bootstrap.min.css set `[hidden] { display: none !important; }` so we also need the `!important` here to be able to override the default hidden behavior on the sphinx rendered scikit-learn.org. See: https://github.com/scikit-learn/scikit-learn/issues/21755 */display: inline-block !important;position: relative;}#sk-container-id-6 div.sk-text-repr-fallback {display: none;}</style><div id=\"sk-container-id-6\" class=\"sk-top-container\"><div class=\"sk-text-repr-fallback\"><pre>DecisionTreeClassifier(ccp_alpha=0.001, criterion=&#x27;entropy&#x27;, max_depth=10,\n",
       "                       random_state=0)</pre><b>In a Jupyter environment, please rerun this cell to show the HTML representation or trust the notebook. <br />On GitHub, the HTML representation is unable to render, please try loading this page with nbviewer.org.</b></div><div class=\"sk-container\" hidden><div class=\"sk-item\"><div class=\"sk-estimator sk-toggleable\"><input class=\"sk-toggleable__control sk-hidden--visually\" id=\"sk-estimator-id-12\" type=\"checkbox\" checked><label for=\"sk-estimator-id-12\" class=\"sk-toggleable__label sk-toggleable__label-arrow\">DecisionTreeClassifier</label><div class=\"sk-toggleable__content\"><pre>DecisionTreeClassifier(ccp_alpha=0.001, criterion=&#x27;entropy&#x27;, max_depth=10,\n",
       "                       random_state=0)</pre></div></div></div></div></div>"
      ],
      "text/plain": [
       "DecisionTreeClassifier(ccp_alpha=0.001, criterion='entropy', max_depth=10,\n",
       "                       random_state=0)"
      ]
     },
     "execution_count": 30,
     "metadata": {},
     "output_type": "execute_result"
    }
   ],
   "source": [
    "# Elegimos el mejor modelo\n",
    "best_model_tree_2 = grid_cv.best_estimator_\n",
    "best_model_tree_2"
   ]
  },
  {
   "cell_type": "code",
   "execution_count": 31,
   "id": "2c1734e8",
   "metadata": {},
   "outputs": [
    {
     "name": "stdout",
     "output_type": "stream",
     "text": [
      "Accuracy train: 75.80%\n"
     ]
    }
   ],
   "source": [
    "train_predictions_tree_2 = best_model_tree_2.predict(x_train_2)\n",
    "accuracy_train_tree_2 = accuracy_score(y_train_2, train_predictions_tree_2)\n",
    "print(f\"Accuracy train: %.2f%%\" % (accuracy_train_tree_2 * 100.0))"
   ]
  },
  {
   "cell_type": "code",
   "execution_count": 32,
   "id": "4ca5ad72",
   "metadata": {},
   "outputs": [
    {
     "name": "stdout",
     "output_type": "stream",
     "text": [
      "Accuracy test: 75.26%\n"
     ]
    }
   ],
   "source": [
    "test_predictions_tree_2 = best_model_tree_2.predict(x_test_2)\n",
    "accuracy_test_tree_2 = accuracy_score(y_test_2, test_predictions_tree_2)\n",
    "print(\"Accuracy test: %.2f%%\" % (accuracy_test_tree_2 * 100.0))"
   ]
  },
  {
   "cell_type": "markdown",
   "id": "896c567c",
   "metadata": {},
   "source": [
    "### Evaluación sobre el conjunto de entrenamiento"
   ]
  },
  {
   "cell_type": "code",
   "execution_count": 33,
   "id": "78a6fdf0",
   "metadata": {},
   "outputs": [
    {
     "name": "stdout",
     "output_type": "stream",
     "text": [
      "                 precision    recall  f1-score   support\n",
      "\n",
      "Adultos Mayores       0.62      0.60      0.61     25178\n",
      "            BEG       0.80      0.96      0.87     66610\n",
      "            BOS       0.98      0.61      0.75      3953\n",
      "            BSC       0.99      0.39      0.56      8287\n",
      "   Discapacidad       0.61      0.38      0.47     12456\n",
      "          Resto       0.77      0.62      0.68      9007\n",
      "\n",
      "       accuracy                           0.76    125491\n",
      "      macro avg       0.79      0.59      0.66    125491\n",
      "   weighted avg       0.76      0.76      0.74    125491\n",
      "\n"
     ]
    }
   ],
   "source": [
    "print(classification_report(y_train_2, train_predictions_tree_2))"
   ]
  },
  {
   "cell_type": "markdown",
   "id": "28f9f3fc",
   "metadata": {},
   "source": [
    "### Matriz de confusión sobre el conjunto de entrenamiento"
   ]
  },
  {
   "cell_type": "code",
   "execution_count": 34,
   "id": "69c1e12e",
   "metadata": {},
   "outputs": [
    {
     "data": {
      "text/plain": [
       "array([[15082,  7538,    14,    37,  1963,   544],\n",
       "       [ 2565, 64033,     5,     7,     0,     0],\n",
       "       [  321,  1214,  2418,     0,     0,     0],\n",
       "       [ 1655,  3346,    22,  3264,     0,     0],\n",
       "       [ 4349,  2179,     0,     0,  4768,  1160],\n",
       "       [  486,  1824,     0,     0,  1140,  5557]])"
      ]
     },
     "execution_count": 34,
     "metadata": {},
     "output_type": "execute_result"
    }
   ],
   "source": [
    "cm=confusion_matrix(y_train_2, train_predictions_tree_2)\n",
    "cm"
   ]
  },
  {
   "cell_type": "code",
   "execution_count": 35,
   "id": "86d1595d",
   "metadata": {},
   "outputs": [
    {
     "name": "stderr",
     "output_type": "stream",
     "text": [
      "/home/ivillagra/miniconda3/lib/python3.9/site-packages/sklearn/utils/deprecation.py:87: FutureWarning: Function plot_confusion_matrix is deprecated; Function `plot_confusion_matrix` is deprecated in 1.0 and will be removed in 1.2. Use one of the class methods: ConfusionMatrixDisplay.from_predictions or ConfusionMatrixDisplay.from_estimator.\n",
      "  warnings.warn(msg, category=FutureWarning)\n"
     ]
    },
    {
     "data": {
      "text/plain": [
       "<sklearn.metrics._plot.confusion_matrix.ConfusionMatrixDisplay at 0x7f19e4106b80>"
      ]
     },
     "execution_count": 35,
     "metadata": {},
     "output_type": "execute_result"
    },
    {
     "data": {
      "image/png": "[encoded data removed]",
      "text/plain": [
       "<Figure size 864x720 with 2 Axes>"
      ]
     },
     "metadata": {
      "needs_background": "light"
     },
     "output_type": "display_data"
    }
   ],
   "source": [
    "fig, ax = plt.subplots(figsize=(12, 10))\n",
    "plot_confusion_matrix(best_model_tree_2, x_train_2, y_train_2, ax=ax) "
   ]
  },
  {
   "cell_type": "markdown",
   "id": "fe6aba1c",
   "metadata": {},
   "source": [
    "### Evaluación sobre el conjunto de prueba"
   ]
  },
  {
   "cell_type": "code",
   "execution_count": 36,
   "id": "271b72fc",
   "metadata": {},
   "outputs": [
    {
     "name": "stdout",
     "output_type": "stream",
     "text": [
      "                 precision    recall  f1-score   support\n",
      "\n",
      "Adultos Mayores       0.61      0.59      0.60      6295\n",
      "            BEG       0.79      0.96      0.87     16653\n",
      "            BOS       0.97      0.59      0.73       988\n",
      "            BSC       0.98      0.39      0.56      2071\n",
      "   Discapacidad       0.60      0.37      0.46      3114\n",
      "          Resto       0.75      0.62      0.68      2252\n",
      "\n",
      "       accuracy                           0.75     31373\n",
      "      macro avg       0.79      0.59      0.65     31373\n",
      "   weighted avg       0.75      0.75      0.74     31373\n",
      "\n"
     ]
    }
   ],
   "source": [
    "print(classification_report(y_test_2, test_predictions_tree_2))"
   ]
  },
  {
   "cell_type": "markdown",
   "id": "4ad949d8",
   "metadata": {},
   "source": [
    "### Matriz de confusión sobre el conjunto de prueba"
   ]
  },
  {
   "cell_type": "code",
   "execution_count": 37,
   "id": "fb65039b",
   "metadata": {},
   "outputs": [
    {
     "data": {
      "text/plain": [
       "array([[ 3700,  1942,     3,    13,   474,   163],\n",
       "       [  675, 15975,     1,     1,     0,     1],\n",
       "       [   80,   328,   580,     0,     0,     0],\n",
       "       [  428,   827,    14,   802,     0,     0],\n",
       "       [ 1071,   586,     0,     0,  1167,   290],\n",
       "       [  116,   462,     0,     0,   288,  1386]])"
      ]
     },
     "execution_count": 37,
     "metadata": {},
     "output_type": "execute_result"
    }
   ],
   "source": [
    "cm=confusion_matrix(y_test_2, test_predictions_tree_2)\n",
    "cm"
   ]
  },
  {
   "cell_type": "code",
   "execution_count": 38,
   "id": "e158ba78",
   "metadata": {},
   "outputs": [
    {
     "name": "stderr",
     "output_type": "stream",
     "text": [
      "/home/ivillagra/miniconda3/lib/python3.9/site-packages/sklearn/utils/deprecation.py:87: FutureWarning: Function plot_confusion_matrix is deprecated; Function `plot_confusion_matrix` is deprecated in 1.0 and will be removed in 1.2. Use one of the class methods: ConfusionMatrixDisplay.from_predictions or ConfusionMatrixDisplay.from_estimator.\n",
      "  warnings.warn(msg, category=FutureWarning)\n"
     ]
    },
    {
     "data": {
      "text/plain": [
       "<sklearn.metrics._plot.confusion_matrix.ConfusionMatrixDisplay at 0x7f197ef39850>"
      ]
     },
     "execution_count": 38,
     "metadata": {},
     "output_type": "execute_result"
    },
    {
     "data": {
      "image/png": "[encoded data removed]",
      "text/plain": [
       "<Figure size 864x720 with 2 Axes>"
      ]
     },
     "metadata": {
      "needs_background": "light"
     },
     "output_type": "display_data"
    }
   ],
   "source": [
    "fig, ax = plt.subplots(figsize=(12, 10))\n",
    "plot_confusion_matrix(best_model_tree_2, x_test_2, y_test_2, ax=ax) "
   ]
  },
  {
   "cell_type": "markdown",
   "id": "29a3f796",
   "metadata": {},
   "source": [
    "## Random Forest Classifier"
   ]
  },
  {
   "cell_type": "code",
   "execution_count": 39,
   "id": "9ec9e92c",
   "metadata": {},
   "outputs": [
    {
     "data": {
      "text/plain": [
       "{'bootstrap': True,\n",
       " 'ccp_alpha': 0.0,\n",
       " 'class_weight': None,\n",
       " 'criterion': 'gini',\n",
       " 'max_depth': None,\n",
       " 'max_features': 'sqrt',\n",
       " 'max_leaf_nodes': None,\n",
       " 'max_samples': None,\n",
       " 'min_impurity_decrease': 0.0,\n",
       " 'min_samples_leaf': 1,\n",
       " 'min_samples_split': 2,\n",
       " 'min_weight_fraction_leaf': 0.0,\n",
       " 'n_estimators': 100,\n",
       " 'n_jobs': None,\n",
       " 'oob_score': False,\n",
       " 'random_state': 0,\n",
       " 'verbose': 0,\n",
       " 'warm_start': False}"
      ]
     },
     "execution_count": 39,
     "metadata": {},
     "output_type": "execute_result"
    }
   ],
   "source": [
    "RandomForestClassifier(random_state=0).get_params()"
   ]
  },
  {
   "cell_type": "code",
   "execution_count": 44,
   "id": "15ae2e43",
   "metadata": {},
   "outputs": [
    {
     "name": "stdout",
     "output_type": "stream",
     "text": [
      "Combinaciones posibles: 32\n"
     ]
    }
   ],
   "source": [
    "param_grid_rf_2 = {\n",
    "    'criterion': ['gini', 'entropy'],   \n",
    "    'max_depth': [2,4,6,8],   \n",
    "    'min_samples_leaf': [1,2,3,4],\n",
    "    'ccp_alpha': [0.001],\n",
    "}\n",
    "\n",
    "print(f'Combinaciones posibles: {len(ParameterGrid(param_grid_rf_2))}')"
   ]
  },
  {
   "cell_type": "code",
   "execution_count": 45,
   "id": "e788ef30",
   "metadata": {},
   "outputs": [
    {
     "data": {
      "text/html": [
       "<style>#sk-container-id-7 {color: black;background-color: white;}#sk-container-id-7 pre{padding: 0;}#sk-container-id-7 div.sk-toggleable {background-color: white;}#sk-container-id-7 label.sk-toggleable__label {cursor: pointer;display: block;width: 100%;margin-bottom: 0;padding: 0.3em;box-sizing: border-box;text-align: center;}#sk-container-id-7 label.sk-toggleable__label-arrow:before {content: \"▸\";float: left;margin-right: 0.25em;color: #696969;}#sk-container-id-7 label.sk-toggleable__label-arrow:hover:before {color: black;}#sk-container-id-7 div.sk-estimator:hover label.sk-toggleable__label-arrow:before {color: black;}#sk-container-id-7 div.sk-toggleable__content {max-height: 0;max-width: 0;overflow: hidden;text-align: left;background-color: #f0f8ff;}#sk-container-id-7 div.sk-toggleable__content pre {margin: 0.2em;color: black;border-radius: 0.25em;background-color: #f0f8ff;}#sk-container-id-7 input.sk-toggleable__control:checked~div.sk-toggleable__content {max-height: 200px;max-width: 100%;overflow: auto;}#sk-container-id-7 input.sk-toggleable__control:checked~label.sk-toggleable__label-arrow:before {content: \"▾\";}#sk-container-id-7 div.sk-estimator input.sk-toggleable__control:checked~label.sk-toggleable__label {background-color: #d4ebff;}#sk-container-id-7 div.sk-label input.sk-toggleable__control:checked~label.sk-toggleable__label {background-color: #d4ebff;}#sk-container-id-7 input.sk-hidden--visually {border: 0;clip: rect(1px 1px 1px 1px);clip: rect(1px, 1px, 1px, 1px);height: 1px;margin: -1px;overflow: hidden;padding: 0;position: absolute;width: 1px;}#sk-container-id-7 div.sk-estimator {font-family: monospace;background-color: #f0f8ff;border: 1px dotted black;border-radius: 0.25em;box-sizing: border-box;margin-bottom: 0.5em;}#sk-container-id-7 div.sk-estimator:hover {background-color: #d4ebff;}#sk-container-id-7 div.sk-parallel-item::after {content: \"\";width: 100%;border-bottom: 1px solid gray;flex-grow: 1;}#sk-container-id-7 div.sk-label:hover label.sk-toggleable__label {background-color: #d4ebff;}#sk-container-id-7 div.sk-serial::before {content: \"\";position: absolute;border-left: 1px solid gray;box-sizing: border-box;top: 0;bottom: 0;left: 50%;z-index: 0;}#sk-container-id-7 div.sk-serial {display: flex;flex-direction: column;align-items: center;background-color: white;padding-right: 0.2em;padding-left: 0.2em;position: relative;}#sk-container-id-7 div.sk-item {position: relative;z-index: 1;}#sk-container-id-7 div.sk-parallel {display: flex;align-items: stretch;justify-content: center;background-color: white;position: relative;}#sk-container-id-7 div.sk-item::before, #sk-container-id-7 div.sk-parallel-item::before {content: \"\";position: absolute;border-left: 1px solid gray;box-sizing: border-box;top: 0;bottom: 0;left: 50%;z-index: -1;}#sk-container-id-7 div.sk-parallel-item {display: flex;flex-direction: column;z-index: 1;position: relative;background-color: white;}#sk-container-id-7 div.sk-parallel-item:first-child::after {align-self: flex-end;width: 50%;}#sk-container-id-7 div.sk-parallel-item:last-child::after {align-self: flex-start;width: 50%;}#sk-container-id-7 div.sk-parallel-item:only-child::after {width: 0;}#sk-container-id-7 div.sk-dashed-wrapped {border: 1px dashed gray;margin: 0 0.4em 0.5em 0.4em;box-sizing: border-box;padding-bottom: 0.4em;background-color: white;}#sk-container-id-7 div.sk-label label {font-family: monospace;font-weight: bold;display: inline-block;line-height: 1.2em;}#sk-container-id-7 div.sk-label-container {text-align: center;}#sk-container-id-7 div.sk-container {/* jupyter's `normalize.less` sets `[hidden] { display: none; }` but bootstrap.min.css set `[hidden] { display: none !important; }` so we also need the `!important` here to be able to override the default hidden behavior on the sphinx rendered scikit-learn.org. See: https://github.com/scikit-learn/scikit-learn/issues/21755 */display: inline-block !important;position: relative;}#sk-container-id-7 div.sk-text-repr-fallback {display: none;}</style><div id=\"sk-container-id-7\" class=\"sk-top-container\"><div class=\"sk-text-repr-fallback\"><pre>GridSearchCV(cv=5, estimator=RandomForestClassifier(random_state=0),\n",
       "             param_grid={&#x27;ccp_alpha&#x27;: [0.001], &#x27;criterion&#x27;: [&#x27;gini&#x27;, &#x27;entropy&#x27;],\n",
       "                         &#x27;max_depth&#x27;: [2, 4, 6, 8],\n",
       "                         &#x27;min_samples_leaf&#x27;: [1, 2, 3, 4]},\n",
       "             scoring=&#x27;accuracy&#x27;)</pre><b>In a Jupyter environment, please rerun this cell to show the HTML representation or trust the notebook. <br />On GitHub, the HTML representation is unable to render, please try loading this page with nbviewer.org.</b></div><div class=\"sk-container\" hidden><div class=\"sk-item sk-dashed-wrapped\"><div class=\"sk-label-container\"><div class=\"sk-label sk-toggleable\"><input class=\"sk-toggleable__control sk-hidden--visually\" id=\"sk-estimator-id-13\" type=\"checkbox\" ><label for=\"sk-estimator-id-13\" class=\"sk-toggleable__label sk-toggleable__label-arrow\">GridSearchCV</label><div class=\"sk-toggleable__content\"><pre>GridSearchCV(cv=5, estimator=RandomForestClassifier(random_state=0),\n",
       "             param_grid={&#x27;ccp_alpha&#x27;: [0.001], &#x27;criterion&#x27;: [&#x27;gini&#x27;, &#x27;entropy&#x27;],\n",
       "                         &#x27;max_depth&#x27;: [2, 4, 6, 8],\n",
       "                         &#x27;min_samples_leaf&#x27;: [1, 2, 3, 4]},\n",
       "             scoring=&#x27;accuracy&#x27;)</pre></div></div></div><div class=\"sk-parallel\"><div class=\"sk-parallel-item\"><div class=\"sk-item\"><div class=\"sk-label-container\"><div class=\"sk-label sk-toggleable\"><input class=\"sk-toggleable__control sk-hidden--visually\" id=\"sk-estimator-id-14\" type=\"checkbox\" ><label for=\"sk-estimator-id-14\" class=\"sk-toggleable__label sk-toggleable__label-arrow\">estimator: RandomForestClassifier</label><div class=\"sk-toggleable__content\"><pre>RandomForestClassifier(random_state=0)</pre></div></div></div><div class=\"sk-serial\"><div class=\"sk-item\"><div class=\"sk-estimator sk-toggleable\"><input class=\"sk-toggleable__control sk-hidden--visually\" id=\"sk-estimator-id-15\" type=\"checkbox\" ><label for=\"sk-estimator-id-15\" class=\"sk-toggleable__label sk-toggleable__label-arrow\">RandomForestClassifier</label><div class=\"sk-toggleable__content\"><pre>RandomForestClassifier(random_state=0)</pre></div></div></div></div></div></div></div></div></div></div>"
      ],
      "text/plain": [
       "GridSearchCV(cv=5, estimator=RandomForestClassifier(random_state=0),\n",
       "             param_grid={'ccp_alpha': [0.001], 'criterion': ['gini', 'entropy'],\n",
       "                         'max_depth': [2, 4, 6, 8],\n",
       "                         'min_samples_leaf': [1, 2, 3, 4]},\n",
       "             scoring='accuracy')"
      ]
     },
     "execution_count": 45,
     "metadata": {},
     "output_type": "execute_result"
    }
   ],
   "source": [
    "model_rf_2 =ensemble.RandomForestClassifier(random_state=0)\n",
    "grid_cv = GridSearchCV(model_rf_2, param_grid_rf_2, scoring='accuracy', cv=5)\n",
    "grid_cv.fit(x_train_2, y_train_2)"
   ]
  },
  {
   "cell_type": "code",
   "execution_count": 46,
   "id": "3f9a1afe",
   "metadata": {},
   "outputs": [
    {
     "data": {
      "text/html": [
       "<style>#sk-container-id-8 {color: black;background-color: white;}#sk-container-id-8 pre{padding: 0;}#sk-container-id-8 div.sk-toggleable {background-color: white;}#sk-container-id-8 label.sk-toggleable__label {cursor: pointer;display: block;width: 100%;margin-bottom: 0;padding: 0.3em;box-sizing: border-box;text-align: center;}#sk-container-id-8 label.sk-toggleable__label-arrow:before {content: \"▸\";float: left;margin-right: 0.25em;color: #696969;}#sk-container-id-8 label.sk-toggleable__label-arrow:hover:before {color: black;}#sk-container-id-8 div.sk-estimator:hover label.sk-toggleable__label-arrow:before {color: black;}#sk-container-id-8 div.sk-toggleable__content {max-height: 0;max-width: 0;overflow: hidden;text-align: left;background-color: #f0f8ff;}#sk-container-id-8 div.sk-toggleable__content pre {margin: 0.2em;color: black;border-radius: 0.25em;background-color: #f0f8ff;}#sk-container-id-8 input.sk-toggleable__control:checked~div.sk-toggleable__content {max-height: 200px;max-width: 100%;overflow: auto;}#sk-container-id-8 input.sk-toggleable__control:checked~label.sk-toggleable__label-arrow:before {content: \"▾\";}#sk-container-id-8 div.sk-estimator input.sk-toggleable__control:checked~label.sk-toggleable__label {background-color: #d4ebff;}#sk-container-id-8 div.sk-label input.sk-toggleable__control:checked~label.sk-toggleable__label {background-color: #d4ebff;}#sk-container-id-8 input.sk-hidden--visually {border: 0;clip: rect(1px 1px 1px 1px);clip: rect(1px, 1px, 1px, 1px);height: 1px;margin: -1px;overflow: hidden;padding: 0;position: absolute;width: 1px;}#sk-container-id-8 div.sk-estimator {font-family: monospace;background-color: #f0f8ff;border: 1px dotted black;border-radius: 0.25em;box-sizing: border-box;margin-bottom: 0.5em;}#sk-container-id-8 div.sk-estimator:hover {background-color: #d4ebff;}#sk-container-id-8 div.sk-parallel-item::after {content: \"\";width: 100%;border-bottom: 1px solid gray;flex-grow: 1;}#sk-container-id-8 div.sk-label:hover label.sk-toggleable__label {background-color: #d4ebff;}#sk-container-id-8 div.sk-serial::before {content: \"\";position: absolute;border-left: 1px solid gray;box-sizing: border-box;top: 0;bottom: 0;left: 50%;z-index: 0;}#sk-container-id-8 div.sk-serial {display: flex;flex-direction: column;align-items: center;background-color: white;padding-right: 0.2em;padding-left: 0.2em;position: relative;}#sk-container-id-8 div.sk-item {position: relative;z-index: 1;}#sk-container-id-8 div.sk-parallel {display: flex;align-items: stretch;justify-content: center;background-color: white;position: relative;}#sk-container-id-8 div.sk-item::before, #sk-container-id-8 div.sk-parallel-item::before {content: \"\";position: absolute;border-left: 1px solid gray;box-sizing: border-box;top: 0;bottom: 0;left: 50%;z-index: -1;}#sk-container-id-8 div.sk-parallel-item {display: flex;flex-direction: column;z-index: 1;position: relative;background-color: white;}#sk-container-id-8 div.sk-parallel-item:first-child::after {align-self: flex-end;width: 50%;}#sk-container-id-8 div.sk-parallel-item:last-child::after {align-self: flex-start;width: 50%;}#sk-container-id-8 div.sk-parallel-item:only-child::after {width: 0;}#sk-container-id-8 div.sk-dashed-wrapped {border: 1px dashed gray;margin: 0 0.4em 0.5em 0.4em;box-sizing: border-box;padding-bottom: 0.4em;background-color: white;}#sk-container-id-8 div.sk-label label {font-family: monospace;font-weight: bold;display: inline-block;line-height: 1.2em;}#sk-container-id-8 div.sk-label-container {text-align: center;}#sk-container-id-8 div.sk-container {/* jupyter's `normalize.less` sets `[hidden] { display: none; }` but bootstrap.min.css set `[hidden] { display: none !important; }` so we also need the `!important` here to be able to override the default hidden behavior on the sphinx rendered scikit-learn.org. See: https://github.com/scikit-learn/scikit-learn/issues/21755 */display: inline-block !important;position: relative;}#sk-container-id-8 div.sk-text-repr-fallback {display: none;}</style><div id=\"sk-container-id-8\" class=\"sk-top-container\"><div class=\"sk-text-repr-fallback\"><pre>RandomForestClassifier(ccp_alpha=0.001, criterion=&#x27;entropy&#x27;, max_depth=8,\n",
       "                       min_samples_leaf=3, random_state=0)</pre><b>In a Jupyter environment, please rerun this cell to show the HTML representation or trust the notebook. <br />On GitHub, the HTML representation is unable to render, please try loading this page with nbviewer.org.</b></div><div class=\"sk-container\" hidden><div class=\"sk-item\"><div class=\"sk-estimator sk-toggleable\"><input class=\"sk-toggleable__control sk-hidden--visually\" id=\"sk-estimator-id-16\" type=\"checkbox\" checked><label for=\"sk-estimator-id-16\" class=\"sk-toggleable__label sk-toggleable__label-arrow\">RandomForestClassifier</label><div class=\"sk-toggleable__content\"><pre>RandomForestClassifier(ccp_alpha=0.001, criterion=&#x27;entropy&#x27;, max_depth=8,\n",
       "                       min_samples_leaf=3, random_state=0)</pre></div></div></div></div></div>"
      ],
      "text/plain": [
       "RandomForestClassifier(ccp_alpha=0.001, criterion='entropy', max_depth=8,\n",
       "                       min_samples_leaf=3, random_state=0)"
      ]
     },
     "execution_count": 46,
     "metadata": {},
     "output_type": "execute_result"
    }
   ],
   "source": [
    "# Elegimos el mejor modelo\n",
    "best_model_rf_2 = grid_cv.best_estimator_\n",
    "best_model_rf_2"
   ]
  },
  {
   "cell_type": "code",
   "execution_count": 47,
   "id": "732cd467",
   "metadata": {},
   "outputs": [
    {
     "name": "stdout",
     "output_type": "stream",
     "text": [
      "Accuracy train: 70.37%\n"
     ]
    }
   ],
   "source": [
    "train_predictions_rf_2 = best_model_rf_2.predict(x_train_2)\n",
    "accuracy_train_rf_2 = accuracy_score(y_train_2, train_predictions_rf_2)\n",
    "print(f\"Accuracy train: %.2f%%\" % (accuracy_train_rf_2 * 100.0))"
   ]
  },
  {
   "cell_type": "code",
   "execution_count": 48,
   "id": "61ab2f9a",
   "metadata": {},
   "outputs": [
    {
     "name": "stdout",
     "output_type": "stream",
     "text": [
      "Accuracy test: 70.15%\n"
     ]
    }
   ],
   "source": [
    "test_predictions_rf_2 = best_model_rf_2.predict(x_test_2)\n",
    "accuracy_test_rf_2 = accuracy_score(y_test_2, test_predictions_rf_2)\n",
    "print(\"Accuracy test: %.2f%%\" % (accuracy_test_rf_2 * 100.0))"
   ]
  },
  {
   "cell_type": "markdown",
   "id": "2564d2a1",
   "metadata": {},
   "source": [
    "### Evaluación sobre el conjunto de entrenamiento"
   ]
  },
  {
   "cell_type": "code",
   "execution_count": 49,
   "id": "059f591f",
   "metadata": {},
   "outputs": [
    {
     "name": "stdout",
     "output_type": "stream",
     "text": [
      "                 precision    recall  f1-score   support\n",
      "\n",
      "Adultos Mayores       0.57      0.59      0.58     25178\n",
      "            BEG       0.73      0.96      0.83     66610\n",
      "            BOS       1.00      0.08      0.16      3953\n",
      "            BSC       1.00      0.18      0.30      8287\n",
      "   Discapacidad       0.69      0.31      0.43     12456\n",
      "          Resto       0.81      0.45      0.58      9007\n",
      "\n",
      "       accuracy                           0.70    125491\n",
      "      macro avg       0.80      0.43      0.48    125491\n",
      "   weighted avg       0.73      0.70      0.67    125491\n",
      "\n"
     ]
    }
   ],
   "source": [
    "print(classification_report(y_train_2, train_predictions_rf_2))"
   ]
  },
  {
   "cell_type": "markdown",
   "id": "ffeb8593",
   "metadata": {},
   "source": [
    "### Matriz de confusión sobre el conjunto de entrenamiento"
   ]
  },
  {
   "cell_type": "code",
   "execution_count": 50,
   "id": "a677cfa3",
   "metadata": {},
   "outputs": [
    {
     "data": {
      "text/plain": [
       "array([[14969,  8833,     0,     0,  1098,   278],\n",
       "       [ 2992, 63618,     0,     0,     0,     0],\n",
       "       [  448,  3170,   335,     0,     0,     0],\n",
       "       [ 2230,  4597,     0,  1460,     0,     0],\n",
       "       [ 4673,  3224,     0,     0,  3873,   686],\n",
       "       [ 1071,  3241,     0,     0,   639,  4056]])"
      ]
     },
     "execution_count": 50,
     "metadata": {},
     "output_type": "execute_result"
    }
   ],
   "source": [
    "cm=confusion_matrix(y_train_2, train_predictions_rf_2)\n",
    "cm"
   ]
  },
  {
   "cell_type": "code",
   "execution_count": 51,
   "id": "58930e48",
   "metadata": {},
   "outputs": [
    {
     "name": "stderr",
     "output_type": "stream",
     "text": [
      "/home/ivillagra/miniconda3/lib/python3.9/site-packages/sklearn/utils/deprecation.py:87: FutureWarning: Function plot_confusion_matrix is deprecated; Function `plot_confusion_matrix` is deprecated in 1.0 and will be removed in 1.2. Use one of the class methods: ConfusionMatrixDisplay.from_predictions or ConfusionMatrixDisplay.from_estimator.\n",
      "  warnings.warn(msg, category=FutureWarning)\n"
     ]
    },
    {
     "data": {
      "text/plain": [
       "<sklearn.metrics._plot.confusion_matrix.ConfusionMatrixDisplay at 0x7f197a041610>"
      ]
     },
     "execution_count": 51,
     "metadata": {},
     "output_type": "execute_result"
    },
    {
     "data": {
      "image/png": "[encoded data removed]",
      "text/plain": [
       "<Figure size 864x720 with 2 Axes>"
      ]
     },
     "metadata": {
      "needs_background": "light"
     },
     "output_type": "display_data"
    }
   ],
   "source": [
    "fig, ax = plt.subplots(figsize=(12, 10))\n",
    "plot_confusion_matrix(best_model_rf_2, x_train_2, y_train_2, ax=ax) "
   ]
  },
  {
   "cell_type": "markdown",
   "id": "7e1793c2",
   "metadata": {},
   "source": [
    "### Evaluación sobre el conjunto de prueba"
   ]
  },
  {
   "cell_type": "code",
   "execution_count": 52,
   "id": "7f80f55c",
   "metadata": {},
   "outputs": [
    {
     "name": "stdout",
     "output_type": "stream",
     "text": [
      "                 precision    recall  f1-score   support\n",
      "\n",
      "Adultos Mayores       0.57      0.60      0.58      6295\n",
      "            BEG       0.73      0.95      0.83     16653\n",
      "            BOS       1.00      0.08      0.15       988\n",
      "            BSC       1.00      0.18      0.30      2071\n",
      "   Discapacidad       0.69      0.29      0.41      3114\n",
      "          Resto       0.78      0.45      0.57      2252\n",
      "\n",
      "       accuracy                           0.70     31373\n",
      "      macro avg       0.80      0.42      0.47     31373\n",
      "   weighted avg       0.72      0.70      0.66     31373\n",
      "\n"
     ]
    }
   ],
   "source": [
    "print(classification_report(y_test_2, test_predictions_rf_2))"
   ]
  },
  {
   "cell_type": "markdown",
   "id": "bfcc282b",
   "metadata": {},
   "source": [
    "### Matriz de confusión sobre el conjunto de prueba"
   ]
  },
  {
   "cell_type": "code",
   "execution_count": 53,
   "id": "5e2269bc",
   "metadata": {},
   "outputs": [
    {
     "data": {
      "text/plain": [
       "array([[ 3756,  2189,     0,     0,   259,    91],\n",
       "       [  767, 15886,     0,     0,     0,     0],\n",
       "       [  117,   792,    79,     0,     0,     0],\n",
       "       [  542,  1160,     0,   369,     0,     0],\n",
       "       [ 1163,   852,     0,     0,   912,   187],\n",
       "       [  278,   811,     0,     0,   156,  1007]])"
      ]
     },
     "execution_count": 53,
     "metadata": {},
     "output_type": "execute_result"
    }
   ],
   "source": [
    "cm=confusion_matrix(y_test_2, test_predictions_rf_2)\n",
    "cm"
   ]
  },
  {
   "cell_type": "code",
   "execution_count": 54,
   "id": "5418997b",
   "metadata": {},
   "outputs": [
    {
     "name": "stderr",
     "output_type": "stream",
     "text": [
      "/home/ivillagra/miniconda3/lib/python3.9/site-packages/sklearn/utils/deprecation.py:87: FutureWarning: Function plot_confusion_matrix is deprecated; Function `plot_confusion_matrix` is deprecated in 1.0 and will be removed in 1.2. Use one of the class methods: ConfusionMatrixDisplay.from_predictions or ConfusionMatrixDisplay.from_estimator.\n",
      "  warnings.warn(msg, category=FutureWarning)\n"
     ]
    },
    {
     "data": {
      "text/plain": [
       "<sklearn.metrics._plot.confusion_matrix.ConfusionMatrixDisplay at 0x7f19772e4070>"
      ]
     },
     "execution_count": 54,
     "metadata": {},
     "output_type": "execute_result"
    },
    {
     "data": {
      "image/png": "[encoded data removed]",
      "text/plain": [
       "<Figure size 864x720 with 2 Axes>"
      ]
     },
     "metadata": {
      "needs_background": "light"
     },
     "output_type": "display_data"
    }
   ],
   "source": [
    "fig, ax = plt.subplots(figsize=(12, 10))\n",
    "plot_confusion_matrix(best_model_rf_2, x_test_2, y_test_2, ax=ax) "
   ]
  },
  {
   "cell_type": "markdown",
   "id": "1c3a43de",
   "metadata": {},
   "source": [
    "## Conclusiones"
   ]
  },
  {
   "cell_type": "markdown",
   "id": "e26d2fe0",
   "metadata": {},
   "source": [
    "Los dos algoritmos de aprendizaje supervisado escogidos permitieron obtener  muy buenas métricas. Los mejores resultados se obtuvieron utilizando Decision Tree Classifier, con un accuracy cercano al 88% y métricas elevadas de performance para la mayoría de los 7 tipo distintos de contrato. En el caso del Random Forest, si bien el accuracy score fue elevado y superior al 84%, solo se obtuvieron métricas elevadas de precision, recall y f1 score de los contratos Usuario Común y BEG, los dos contratos de mayor frecuencia. "
   ]
  },
  {
   "cell_type": "markdown",
   "id": "c1c0da32",
   "metadata": {},
   "source": [
    "Se volvieron a correr los modelos eliminando del dataset a los Usuarios Comunes y, en ambos casos, disminuyó el accuracy score. No obstante, siguen siendo aceptables (por encima del 70%) y, en el caso del algoritmo Random Forest, se incrementaron las métricas de performance para la mayoría de los contratos.  "
   ]
  }
 ],
 "metadata": {
  "kernelspec": {
   "display_name": "Python 3.10.5 64-bit",
   "language": "python",
   "name": "python3"
  },
  "language_info": {
   "codemirror_mode": {
    "name": "ipython",
    "version": 3
   },
   "file_extension": ".py",
   "mimetype": "text/x-python",
   "name": "python",
   "nbconvert_exporter": "python",
   "pygments_lexer": "ipython3",
   "version": "3.10.5"
  },
  "toc": {
   "base_numbering": 1,
   "nav_menu": {},
   "number_sections": true,
   "sideBar": true,
   "skip_h1_title": false,
   "title_cell": "Table of Contents",
   "title_sidebar": "Contents",
   "toc_cell": false,
   "toc_position": {
    "height": "calc(100% - 180px)",
    "left": "10px",
    "top": "150px",
    "width": "426.656px"
   },
   "toc_section_display": true,
   "toc_window_display": true
  },
  "vscode": {
   "interpreter": {
    "hash": "610c699f0cd8c4f129acd9140687fff6866bed0eb8e82f249fc8848b827b628c"
   }
  }
 },
 "nbformat": 4,
 "nbformat_minor": 5
}
